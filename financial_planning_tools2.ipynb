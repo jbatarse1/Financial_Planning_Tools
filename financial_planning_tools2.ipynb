{
 "cells": [
  {
   "cell_type": "markdown",
   "id": "6704b3d7-855f-405c-94e6-d9cdddd896b9",
   "metadata": {},
   "source": [
    "# Financial Planning with APIs and Simulations\n",
    "\n",
    "Two financial analysis tools developmed using a single Jupyter notebook are:\n",
    "\n",
    "1) A financial planner for emergencies. The members will be able to use this tool to visualize their current savings. The members can then determine if they have enough reserves for an emergency fund.\n",
    "\n",
    "2) A financial planner for retirement. This tool will forecast the performance of their retirement portfolio in 30 years. To do this, the tool will make an Alpaca API call via the Alpaca SDK to get historical price data for use in Monte Carlo simulations.\n",
    "\n",
    "Utilizing the Monte Carlo simulation, performance forecasts for the portfolio in the Jupyter notebook will be calculated.\n"
   ]
  },
  {
   "cell_type": "code",
   "execution_count": 2,
   "id": "289b82c3-dcc1-4808-81a4-58b5b00d7393",
   "metadata": {},
   "outputs": [],
   "source": [
    "# Import the required libraries and dependencies\n",
    "import os\n",
    "import requests\n",
    "import json\n",
    "import pandas as pd\n",
    "from dotenv import load_dotenv\n",
    "import alpaca_trade_api as tradeapi\n",
    "from MCForecastTools import MCSimulation\n",
    "\n",
    "%matplotlib inline"
   ]
  },
  {
   "cell_type": "code",
   "execution_count": 3,
   "id": "6cc981e8-e51d-4301-b95a-01951b64571c",
   "metadata": {},
   "outputs": [
    {
     "data": {
      "text/plain": [
       "True"
      ]
     },
     "execution_count": 3,
     "metadata": {},
     "output_type": "execute_result"
    }
   ],
   "source": [
    "# Load the environment variables from the .env file\n",
    "#by calling the load_dotenv function\n",
    "load_dotenv()"
   ]
  },
  {
   "cell_type": "code",
   "execution_count": 4,
   "id": "a6e2113f-3394-43e6-b416-873e6a97c3fe",
   "metadata": {},
   "outputs": [],
   "source": [
    "# The current number of coins for each cryptocurrency asset held in the portfolio.\n",
    "btc_coins = 1.2\n",
    "eth_coins = 5.3"
   ]
  },
  {
   "cell_type": "markdown",
   "id": "427828f5-2040-4688-8874-e58b613ce877",
   "metadata": {},
   "source": [
    "## Part 1: Create a Financial Planner for Emergencies"
   ]
  },
  {
   "cell_type": "markdown",
   "id": "2a9973c0-8a4d-4f97-86dd-8114ac8eaf48",
   "metadata": {},
   "source": [
    "### Evaluate the Cryptocurrency Wallet by Using the Requests Library\n",
    "\n",
    "In this section, you’ll determine the current value of a member’s cryptocurrency wallet. You’ll collect the current prices for the Bitcoin and Ethereum cryptocurrencies by using the Python Requests library. For the prototype, you’ll assume that the member holds the 1.2 Bitcoins (BTC) and 5.3 Ethereum coins (ETH). To do all this, complete the following steps:\n",
    "\n",
    "1. Create a variable named `monthly_income`, and set its value to `12000`.\n",
    "\n",
    "2. Use the Requests library to get the current price (in US dollars) of Bitcoin (BTC) and Ethereum (ETH) by using the API endpoints that the starter code supplies.\n",
    "\n",
    "3. Navigate the JSON response object to access the current price of each coin, and store each in a variable.\n",
    "\n",
    "    > **Hint** Note the specific identifier for each cryptocurrency in the API JSON response. The Bitcoin identifier is `1`, and the Ethereum identifier is `1027`.\n",
    "\n",
    "4. Calculate the value, in US dollars, of the current amount of each cryptocurrency and of the entire cryptocurrency wallet.\n",
    "\n"
   ]
  },
  {
   "cell_type": "code",
   "execution_count": 5,
   "id": "2f7f8697-b1ab-42e9-bf75-82f405920a88",
   "metadata": {},
   "outputs": [],
   "source": [
    "# The current number of coins for each cryptocurrency asset held in the portfolio.\n",
    "btc_coins = 1.2\n",
    "eth_coins = 5.3"
   ]
  },
  {
   "cell_type": "markdown",
   "id": "2a078b11-8a84-4580-a801-fc5edbf6e88d",
   "metadata": {},
   "source": [
    "#### Step 1: Create a variable named `monthly_income`, and set its value to `12000`."
   ]
  },
  {
   "cell_type": "code",
   "execution_count": 6,
   "id": "597ce775-f254-4278-a7e9-fb2cf3c7b7e5",
   "metadata": {},
   "outputs": [],
   "source": [
    "# The monthly amount for the member's household income\n",
    "# YOUR CODE HERE\n",
    "monthly_income = 12000"
   ]
  },
  {
   "cell_type": "markdown",
   "id": "8e947669-ce91-4f7d-bed5-53f7cc095cfb",
   "metadata": {},
   "source": [
    "#### Review the endpoint URLs for the API calls to Free Crypto API in order to get the current pricing information for both BTC and ETH."
   ]
  },
  {
   "cell_type": "code",
   "execution_count": 7,
   "id": "3995da51-360e-410a-b20d-f9c7345416f7",
   "metadata": {},
   "outputs": [],
   "source": [
    "# The Free Crypto API Call endpoint URLs for the held cryptocurrency assets\n",
    "btc_url = \"https://api.alternative.me/v2/ticker/Bitcoin/?convert=USD\"\n",
    "eth_url = \"https://api.alternative.me/v2/ticker/Ethereum/?convert=USD\""
   ]
  },
  {
   "cell_type": "code",
   "execution_count": 8,
   "id": "9610d5fa-72f4-4e5b-9c45-baf6f25a54bc",
   "metadata": {},
   "outputs": [
    {
     "name": "stdout",
     "output_type": "stream",
     "text": [
      "{\n",
      "    \"data\": {\n",
      "        \"1\": {\n",
      "            \"circulating_supply\": 18947881,\n",
      "            \"id\": 1,\n",
      "            \"last_updated\": 1643907731,\n",
      "            \"max_supply\": 21000000,\n",
      "            \"name\": \"Bitcoin\",\n",
      "            \"quotes\": {\n",
      "                \"USD\": {\n",
      "                    \"market_cap\": 698228479093,\n",
      "                    \"percent_change_1h\": -0.439546481534025,\n",
      "                    \"percent_change_24h\": -1.6095080982155,\n",
      "                    \"percent_change_7d\": -0.148443369253114,\n",
      "                    \"percentage_change_1h\": -0.439546481534025,\n",
      "                    \"percentage_change_24h\": -1.6095080982155,\n",
      "                    \"percentage_change_7d\": -0.148443369253114,\n",
      "                    \"price\": 36816.0,\n",
      "                    \"volume_24h\": 17181196057\n",
      "                }\n",
      "            },\n",
      "            \"rank\": 1,\n",
      "            \"symbol\": \"BTC\",\n",
      "            \"total_supply\": 18947881,\n",
      "            \"website_slug\": \"bitcoin\"\n",
      "        }\n",
      "    },\n",
      "    \"metadata\": {\n",
      "        \"error\": null,\n",
      "        \"num_cryptocurrencies\": 3105,\n",
      "        \"timestamp\": 1643907731\n",
      "    }\n",
      "}\n"
     ]
    }
   ],
   "source": [
    "# Using the Python requests library, make an API call to access the current price of BTC\n",
    "btc_response = requests.get(btc_url).json()\n",
    "\n",
    "# Use the json.dumps function to review the response data from the API call\n",
    "# Use the indent and sort_keys parameters to make the response object readable\n",
    "# YOUR CODE HERE\n",
    "\n",
    "print(json.dumps(btc_response, indent=4, sort_keys=True))"
   ]
  },
  {
   "cell_type": "code",
   "execution_count": 9,
   "id": "d8cbb275-beb1-4b0a-9306-f3d28b88caf3",
   "metadata": {},
   "outputs": [
    {
     "name": "stdout",
     "output_type": "stream",
     "text": [
      "{\n",
      "    \"data\": {\n",
      "        \"1027\": {\n",
      "            \"circulating_supply\": 119429997,\n",
      "            \"id\": 1027,\n",
      "            \"last_updated\": 1643907700,\n",
      "            \"max_supply\": 0,\n",
      "            \"name\": \"Ethereum\",\n",
      "            \"quotes\": {\n",
      "                \"USD\": {\n",
      "                    \"market_cap\": 313603723285,\n",
      "                    \"percent_change_1h\": -0.648713449578647,\n",
      "                    \"percent_change_24h\": -1.81648631058671,\n",
      "                    \"percent_change_7d\": 6.29067480830423,\n",
      "                    \"percentage_change_1h\": -0.648713449578647,\n",
      "                    \"percentage_change_24h\": -1.81648631058671,\n",
      "                    \"percentage_change_7d\": 6.29067480830423,\n",
      "                    \"price\": 2625.84,\n",
      "                    \"volume_24h\": 23324056561\n",
      "                }\n",
      "            },\n",
      "            \"rank\": 2,\n",
      "            \"symbol\": \"ETH\",\n",
      "            \"total_supply\": 119429997,\n",
      "            \"website_slug\": \"ethereum\"\n",
      "        }\n",
      "    },\n",
      "    \"metadata\": {\n",
      "        \"error\": null,\n",
      "        \"num_cryptocurrencies\": 3105,\n",
      "        \"timestamp\": 1643907700\n",
      "    }\n",
      "}\n"
     ]
    }
   ],
   "source": [
    "# Using the Python requests library, make an API call to access the current price ETH\n",
    "\n",
    "eth_response = requests.get(eth_url).json()\n",
    "\n",
    "# Use the json.dumps function to review the response data from the API call\n",
    "# Use the indent and sort_keys parameters to make the response object readable\n",
    "# YOUR CODE HERE\n",
    "print(json.dumps(eth_response, indent=4, sort_keys=True))"
   ]
  },
  {
   "cell_type": "markdown",
   "id": "353ca22a-80d8-4a37-91f8-ea7b6fd2312b",
   "metadata": {},
   "source": [
    "#### Step 3: Navigate the JSON response object to access the current price of each coin, and store each in a variable."
   ]
  },
  {
   "cell_type": "code",
   "execution_count": 10,
   "id": "f4aba0d7-06d0-4a5a-8706-d1c0969e5172",
   "metadata": {},
   "outputs": [
    {
     "name": "stdout",
     "output_type": "stream",
     "text": [
      "36816.0\n"
     ]
    }
   ],
   "source": [
    "# Navigate the BTC response object to access the current price of BTC\n",
    "btc_price = btc_response['data']['1']['quotes']['USD']['price']\n",
    "\n",
    "# Print the current price of BTC\n",
    "# YOUR CODE HERE\n",
    "print(btc_price)"
   ]
  },
  {
   "cell_type": "code",
   "execution_count": 11,
   "id": "535fbcf3-c409-4bf0-99c9-ad18979dd897",
   "metadata": {},
   "outputs": [
    {
     "name": "stdout",
     "output_type": "stream",
     "text": [
      "2625.84\n"
     ]
    }
   ],
   "source": [
    "# Navigate the BTC response object to access the current price of ETH\n",
    "eth_price = eth_response['data']['1027']['quotes']['USD']['price']\n",
    "\n",
    "# Print the current price of ETH\n",
    "# YOUR CODE HERE\n",
    "print(eth_price)"
   ]
  },
  {
   "cell_type": "markdown",
   "id": "ae5d58df-b199-42c3-ada2-cef442f0eb27",
   "metadata": {},
   "source": [
    "### Step 4: Calculate the value, in US dollars, of the current amount of each cryptocurrency and of the entire cryptocurrency wallet."
   ]
  },
  {
   "cell_type": "code",
   "execution_count": 12,
   "id": "1efa8fa7-d54d-4350-a099-89f0ff9f961b",
   "metadata": {},
   "outputs": [
    {
     "name": "stdout",
     "output_type": "stream",
     "text": [
      "44179.2\n"
     ]
    }
   ],
   "source": [
    "# Compute the current value of the BTC holding \n",
    "btc_value = btc_price * btc_coins\n",
    "\n",
    "# Print current value of your holding in BTC\n",
    "# YOUR CODE HERE\n",
    "print(btc_value)"
   ]
  },
  {
   "cell_type": "code",
   "execution_count": 13,
   "id": "93a9fb1e-1cfc-4389-963f-ca5faa6f39fa",
   "metadata": {},
   "outputs": [
    {
     "name": "stdout",
     "output_type": "stream",
     "text": [
      "13916.952000000001\n"
     ]
    }
   ],
   "source": [
    "# Compute the current value of the ETH holding \n",
    "eth_value = eth_price * eth_coins\n",
    "\n",
    "# Print current value of your holding in ETH\n",
    "# YOUR CODE HERE\n",
    "print(eth_value)"
   ]
  },
  {
   "cell_type": "code",
   "execution_count": 14,
   "id": "175afc5d-260d-44cd-887d-37e8b89f2336",
   "metadata": {
    "tags": []
   },
   "outputs": [
    {
     "name": "stdout",
     "output_type": "stream",
     "text": [
      "58096.152\n"
     ]
    }
   ],
   "source": [
    "# Compute the total value of the cryptocurrency wallet\n",
    "# Add the value of the BTC holding to the value of the ETH holding\n",
    "total_crypto_wallet = btc_value + eth_value\n",
    "\n",
    "# Print current cryptocurrency wallet balance\n",
    "# YOUR CODE HERE\n",
    "print(total_crypto_wallet)"
   ]
  },
  {
   "cell_type": "markdown",
   "id": "bf7df46e-613d-4a7c-9fab-9a79c7bcb734",
   "metadata": {
    "tags": []
   },
   "source": [
    "### Evaluate the Stock and Bond Holdings by Using the Alpaca SDK\n",
    "\n",
    "In this section, you’ll determine the current value of a member’s stock and bond holdings. You’ll make an API call to Alpaca via the Alpaca SDK to get the current closing prices of the SPDR S&P 500 ETF Trust (ticker: SPY) and of the iShares Core US Aggregate Bond ETF (ticker: AGG). For the prototype, assume that the member holds 110 shares of SPY, which represents the stock portion of their portfolio, and 200 shares of AGG, which represents the bond portion. To do all this, complete the following steps:\n",
    "\n",
    "1. In the `Starter_Code` folder, create an environment file (`.env`) to store the values of your Alpaca API key and Alpaca secret key.\n",
    "\n",
    "2. Set the variables for the Alpaca API and secret keys. Using the Alpaca SDK, create the Alpaca `tradeapi.REST` object. In this object, include the parameters for the Alpaca API key, the secret key, and the version number.\n",
    "\n",
    "3. Set the following parameters for the Alpaca API call:\n",
    "\n",
    "    - `tickers`: Use the tickers for the member’s stock and bond holdings.\n",
    "\n",
    "    - `timeframe`: Use a time frame of one day.\n",
    "\n",
    "    - `start_date` and `end_date`: Use the same date for these parameters, and format them with the date of the previous weekday (or `2020-08-07`). This is because you want the one closing price for the most-recent trading day.\n",
    "\n",
    "4. Get the current closing prices for `SPY` and `AGG` by using the Alpaca `get_barset` function. Format the response as a Pandas DataFrame by including the `df` property at the end of the `get_barset` function.\n",
    "\n",
    "5. Navigating the Alpaca response DataFrame, select the `SPY` and `AGG` closing prices, and store them as variables.\n",
    "\n",
    "6. Calculate the value, in US dollars, of the current amount of shares in each of the stock and bond portions of the portfolio, and print the results.\n"
   ]
  },
  {
   "cell_type": "markdown",
   "id": "c89754b6-f7e7-4281-ad83-d24e27e75a1a",
   "metadata": {},
   "source": [
    "#### Review the total number of shares held in both (SPY) and (AGG)."
   ]
  },
  {
   "cell_type": "code",
   "execution_count": 37,
   "id": "73dead58-a42d-4d93-bc3b-43e23c74c81f",
   "metadata": {
    "tags": []
   },
   "outputs": [],
   "source": [
    "# Current amount of shares held in both the stock (SPY) and bond (AGG) portion of the portfolio.\n",
    "spy_shares = 110\n",
    "agg_shares = 200\n"
   ]
  },
  {
   "cell_type": "markdown",
   "id": "b8aad64f-fa92-48a5-a843-0b889e42ffeb",
   "metadata": {
    "tags": []
   },
   "source": [
    "#### Step 1: In the `Starter_Code` folder, create an environment file (`.env`) to store the values of your Alpaca API key and Alpaca secret key."
   ]
  },
  {
   "cell_type": "markdown",
   "id": "357b5b02-f30b-4524-abc0-e9796bf50ff0",
   "metadata": {},
   "source": [
    "#### Step 2: Set the variables for the Alpaca API and secret keys. Using the Alpaca SDK, create the Alpaca `tradeapi.REST` object. In this object, include the parameters for the Alpaca API key, the secret key, and the version number."
   ]
  },
  {
   "cell_type": "code",
   "execution_count": 38,
   "id": "a53f59f1-6d0a-4f95-90c6-86ec656eb1cc",
   "metadata": {
    "tags": []
   },
   "outputs": [
    {
     "data": {
      "text/plain": [
       "str"
      ]
     },
     "metadata": {},
     "output_type": "display_data"
    },
    {
     "name": "stdout",
     "output_type": "stream",
     "text": [
      "<class 'str'>\n"
     ]
    }
   ],
   "source": [
    "# Set the variables for the Alpaca API and secret keys\n",
    "alpaca_api_key = os.getenv(\"ALPACA_API_KEY\")\n",
    "alpaca_secret_key = os.getenv(\"ALPACA_SECRET_KEY\")\n",
    "\n",
    "# Create the Alpaca tradeapi.REST object\n",
    "alpaca = tradeapi.REST(\n",
    "    alpaca_api_key,\n",
    "    alpaca_secret_key,\n",
    "    api_version=\"v2\")\n",
    "\n",
    "# Check the values were imported correctly by evaluating the type of each\n",
    "display(type(alpaca_api_key))\n",
    "print(type(alpaca_secret_key))"
   ]
  },
  {
   "cell_type": "markdown",
   "id": "8b5eaae5-f462-4e50-83b0-9b137f3cf9e9",
   "metadata": {},
   "source": [
    "#### Step 3: Set the following parameters for the Alpaca API call:\n",
    "\n",
    "- `tickers`: Use the tickers for the member’s stock and bond holdings.\n",
    "\n",
    "- `timeframe`: Use a time frame of one day.\n",
    "\n",
    "- `start_date` and `end_date`: Use the same date for these parameters, and format them with the date of the previous weekday (or `2020-08-07`). This is because you want the one closing price for the most-recent trading day.\n"
   ]
  },
  {
   "cell_type": "code",
   "execution_count": 39,
   "id": "f462dfa6-e4f5-4251-9e62-f06e04401443",
   "metadata": {
    "tags": []
   },
   "outputs": [
    {
     "data": {
      "text/plain": [
       "['SPY', 'AGG']"
      ]
     },
     "execution_count": 39,
     "metadata": {},
     "output_type": "execute_result"
    }
   ],
   "source": [
    "#Display tickers\n",
    "tickers"
   ]
  },
  {
   "cell_type": "code",
   "execution_count": 40,
   "id": "e9888223-5d75-401c-b013-d07c8e77fc2c",
   "metadata": {},
   "outputs": [],
   "source": [
    "# Set timeframe to 1D \n",
    "timeframe = \"1D\""
   ]
  },
  {
   "cell_type": "code",
   "execution_count": 41,
   "id": "ed6fb6cc-4cfe-450f-a785-e8f5b061bdb5",
   "metadata": {},
   "outputs": [],
   "source": [
    "# Format current date as ISO format\n",
    "# Set both the start and end date at the date of your prior weekday \n",
    "# This will give you the closing price of the previous trading day\n",
    "# Alternatively you can use a start and end date of 2020-08-07\n",
    "start_date = pd.Timestamp(\"2020-08-07\", tz=\"America/New_York\").isoformat()\n",
    "end_date = pd.Timestamp(\"2020-08-07\", tz=\"America/New_York\").isoformat()"
   ]
  },
  {
   "cell_type": "markdown",
   "id": "c1eef2c0-662e-4031-a0bb-facf904a7e6c",
   "metadata": {},
   "source": [
    "#### Step 4: Get the current closing prices for `SPY` and `AGG` by using the Alpaca `get_barset` function. Format the response as a Pandas DataFrame by including the `df` property at the end of the `get_barset` function."
   ]
  },
  {
   "cell_type": "code",
   "execution_count": 42,
   "id": "fd2978d1-a795-41db-a55f-51269966c034",
   "metadata": {},
   "outputs": [
    {
     "data": {
      "text/html": [
       "<div>\n",
       "<style scoped>\n",
       "    .dataframe tbody tr th:only-of-type {\n",
       "        vertical-align: middle;\n",
       "    }\n",
       "\n",
       "    .dataframe tbody tr th {\n",
       "        vertical-align: top;\n",
       "    }\n",
       "\n",
       "    .dataframe thead tr th {\n",
       "        text-align: left;\n",
       "    }\n",
       "\n",
       "    .dataframe thead tr:last-of-type th {\n",
       "        text-align: right;\n",
       "    }\n",
       "</style>\n",
       "<table border=\"1\" class=\"dataframe\">\n",
       "  <thead>\n",
       "    <tr>\n",
       "      <th></th>\n",
       "      <th colspan=\"5\" halign=\"left\">AGG</th>\n",
       "      <th colspan=\"5\" halign=\"left\">SPY</th>\n",
       "    </tr>\n",
       "    <tr>\n",
       "      <th></th>\n",
       "      <th>open</th>\n",
       "      <th>high</th>\n",
       "      <th>low</th>\n",
       "      <th>close</th>\n",
       "      <th>volume</th>\n",
       "      <th>open</th>\n",
       "      <th>high</th>\n",
       "      <th>low</th>\n",
       "      <th>close</th>\n",
       "      <th>volume</th>\n",
       "    </tr>\n",
       "    <tr>\n",
       "      <th>time</th>\n",
       "      <th></th>\n",
       "      <th></th>\n",
       "      <th></th>\n",
       "      <th></th>\n",
       "      <th></th>\n",
       "      <th></th>\n",
       "      <th></th>\n",
       "      <th></th>\n",
       "      <th></th>\n",
       "      <th></th>\n",
       "    </tr>\n",
       "  </thead>\n",
       "  <tbody>\n",
       "    <tr>\n",
       "      <th>2020-08-07 00:00:00-04:00</th>\n",
       "      <td>119.66</td>\n",
       "      <td>119.73</td>\n",
       "      <td>119.395</td>\n",
       "      <td>119.445</td>\n",
       "      <td>8830420</td>\n",
       "      <td>333.28</td>\n",
       "      <td>334.88</td>\n",
       "      <td>332.3</td>\n",
       "      <td>334.55</td>\n",
       "      <td>98710236</td>\n",
       "    </tr>\n",
       "  </tbody>\n",
       "</table>\n",
       "</div>"
      ],
      "text/plain": [
       "                              AGG                                        SPY  \\\n",
       "                             open    high      low    close   volume    open   \n",
       "time                                                                           \n",
       "2020-08-07 00:00:00-04:00  119.66  119.73  119.395  119.445  8830420  333.28   \n",
       "\n",
       "                                                            \n",
       "                             high    low   close    volume  \n",
       "time                                                        \n",
       "2020-08-07 00:00:00-04:00  334.88  332.3  334.55  98710236  "
      ]
     },
     "execution_count": 42,
     "metadata": {},
     "output_type": "execute_result"
    }
   ],
   "source": [
    "# Use the Alpaca get_barset function to get current closing prices the portfolio\n",
    "# Be sure to set the `df` property after the function to format the response object as a DataFrame\n",
    "portfolio_prices_df = alpaca.get_barset(\n",
    "    tickers,\n",
    "    timeframe,\n",
    "    start = start_date,\n",
    "    end = end_date\n",
    ").df\n",
    "\n",
    "# Review the resulting `portfolio_prices_df` DataFrame. \n",
    "portfolio_prices_df"
   ]
  },
  {
   "cell_type": "markdown",
   "id": "91bdf3e0-e958-47a0-99e5-6b0572de8716",
   "metadata": {},
   "source": [
    "#### Step 5: Navigating the Alpaca response DataFrame, select the `SPY` and `AGG` closing prices, and store them as variables."
   ]
  },
  {
   "cell_type": "code",
   "execution_count": 43,
   "id": "434a1881-773d-4691-9e06-cfe224de4678",
   "metadata": {},
   "outputs": [
    {
     "name": "stdout",
     "output_type": "stream",
     "text": [
      "334.55\n",
      "119.445\n"
     ]
    }
   ],
   "source": [
    "# Access the closing price for AGG from the Alpaca DataFrame\n",
    "# Converting the value to a floating point number\n",
    "spy_price = float(portfolio_prices_df[\"SPY\"][\"close\"])\n",
    "agg_price = float(portfolio_prices_df[\"AGG\"][\"close\"])\n",
    "\n",
    "# Print the SPY and AGG  closing price\n",
    "print(spy_price)\n",
    "print(agg_price)"
   ]
  },
  {
   "cell_type": "markdown",
   "id": "6cdace4b-3bf8-4697-a126-af3d42bb75ed",
   "metadata": {},
   "source": [
    "#### Step 6: Calculate the value, in US dollars, of the current amount of shares in each of the stock and bond portions of the portfolio, and print the results."
   ]
  },
  {
   "cell_type": "code",
   "execution_count": 44,
   "id": "eaf48f01-5e6f-495d-b028-f85eb37bf012",
   "metadata": {},
   "outputs": [
    {
     "data": {
      "text/plain": [
       "23889.0"
      ]
     },
     "execution_count": 44,
     "metadata": {},
     "output_type": "execute_result"
    }
   ],
   "source": [
    "# Calculate the current value of the bond portion of the portfolio\n",
    "agg_value = agg_shares * agg_price\n",
    "\n",
    "# Print the current value of the bond portfolio\n",
    "# YOUR CODE HERE\n",
    "agg_value"
   ]
  },
  {
   "cell_type": "code",
   "execution_count": 45,
   "id": "0c61cb44-fadb-4eb8-8dc5-6105a29391ec",
   "metadata": {},
   "outputs": [
    {
     "data": {
      "text/plain": [
       "36800.5"
      ]
     },
     "execution_count": 45,
     "metadata": {},
     "output_type": "execute_result"
    }
   ],
   "source": [
    "# Calculate the current value of the stock portion of the portfolio\n",
    "spy_value = spy_shares * spy_price\n",
    "\n",
    "# Print the current value of the stock portfolio\n",
    "# YOUR CODE HERE\n",
    "spy_value"
   ]
  },
  {
   "cell_type": "code",
   "execution_count": 46,
   "id": "acc9e52d-d184-4f53-b6e0-c21438ad11cd",
   "metadata": {},
   "outputs": [
    {
     "data": {
      "text/plain": [
       "60689.5"
      ]
     },
     "execution_count": 46,
     "metadata": {},
     "output_type": "execute_result"
    }
   ],
   "source": [
    "# Calculate the total value of the stock and bond portion of the portfolio\n",
    "total_stocks_bonds = agg_value + spy_value\n",
    "\n",
    "# Print the current balance of the stock and bond portion of the portfolio\n",
    "# YOUR CODE HERE\n",
    "total_stocks_bonds"
   ]
  },
  {
   "cell_type": "code",
   "execution_count": 47,
   "id": "92c4a335-38c8-4ef8-a118-3d0156fc82dd",
   "metadata": {},
   "outputs": [
    {
     "data": {
      "text/plain": [
       "118785.652"
      ]
     },
     "execution_count": 47,
     "metadata": {},
     "output_type": "execute_result"
    }
   ],
   "source": [
    "# Calculate the total value of the member's entire savings portfolio\n",
    "# Add the value of the cryptocurrency walled to the value of the total stocks and bonds\n",
    "total_portfolio = total_stocks_bonds + total_crypto_wallet\n",
    "\n",
    "# Print current cryptocurrency wallet balance\n",
    "# YOUR CODE HERE\n",
    "total_portfolio"
   ]
  },
  {
   "cell_type": "markdown",
   "id": "f9db3b58-42d3-4982-a713-0f0011aea8b6",
   "metadata": {},
   "source": [
    "### Evaluate the Emergency Fund\n",
    "\n",
    "In this section, you’ll use the valuations for the cryptocurrency wallet and for the stock and bond portions of the portfolio to determine if the credit union member has enough savings to build an emergency fund into their financial plan. To do this, complete the following steps:\n",
    "\n",
    "1. Create a Python list named `savings_data` that has two elements. The first element contains the total value of the cryptocurrency wallet. The second element contains the total value of the stock and bond portions of the portfolio.\n",
    "\n",
    "2. Use the `savings_data` list to create a Pandas DataFrame named `savings_df`, and then display this DataFrame. The function to create the DataFrame should take the following three parameters:\n",
    "\n",
    "    - `savings_data`: Use the list that you just created.\n",
    "\n",
    "    - `columns`: Set this parameter equal to a Python list with a single value called `amount`.\n",
    "\n",
    "    - `index`: Set this parameter equal to a Python list with the values of `crypto` and `stock/bond`.\n",
    "\n",
    "3. Use the `savings_df` DataFrame to plot a pie chart that visualizes the composition of the member’s portfolio. The y-axis of the pie chart uses `amount`. Be sure to add a title.\n",
    "\n",
    "4. Using Python, determine if the current portfolio has enough to create an emergency fund as part of the member’s financial plan. Ideally, an emergency fund should equal to three times the member’s monthly income. To do this, implement the following steps:\n",
    "\n",
    "    1. Create a variable named `emergency_fund_value`, and set it equal to three times the value of the member’s `monthly_income` of $12000. (You set this earlier in Part 1).\n",
    "\n",
    "    2. Create a series of three if statements to determine if the member’s total portfolio is large enough to fund the emergency portfolio:\n",
    "\n",
    "        1. If the total portfolio value is greater than the emergency fund value, display a message congratulating the member for having enough money in this fund.\n",
    "\n",
    "        2. Else if the total portfolio value is equal to the emergency fund value, display a message congratulating the member on reaching this important financial goal.\n",
    "\n",
    "        3. Else the total portfolio is less than the emergency fund value, so display a message showing how many dollars away the member is from reaching the goal. (Subtract the total portfolio value from the emergency fund value.)\n"
   ]
  },
  {
   "cell_type": "code",
   "execution_count": 48,
   "id": "79fb8d82-eddc-4498-850c-d010fdf85cd8",
   "metadata": {
    "tags": []
   },
   "outputs": [
    {
     "data": {
      "text/plain": [
       "[60689.5, 58096.152]"
      ]
     },
     "execution_count": 48,
     "metadata": {},
     "output_type": "execute_result"
    }
   ],
   "source": [
    "# Consolidate financial assets data into a Python list\n",
    "# YOUR CODE HER\n",
    "savings_data = [total_stocks_bonds, total_crypto_wallet]\n",
    "\n",
    "# Review the Python list savings_data\n",
    "# YOUR CODE HERE\n",
    "savings_data"
   ]
  },
  {
   "cell_type": "markdown",
   "id": "46ba7233-dcaa-410b-8c69-f278a5bd99c6",
   "metadata": {},
   "source": [
    "#### Step 2: Use the `savings_data` list to create a Pandas DataFrame named `savings_df`, and then display this DataFrame. The function to create the DataFrame should take the following three parameters:\n",
    "\n",
    "- `savings_data`: Use the list that you just created.\n",
    "\n",
    "- `columns`: Set this parameter equal to a Python list with a single value called `amount`.\n",
    "\n",
    "- `index`: Set this parameter equal to a Python list with the values of `crypto` and `stock/bond`.\n"
   ]
  },
  {
   "cell_type": "code",
   "execution_count": 49,
   "id": "d9d38fee-59b0-4cda-9bd4-7b7d18d9d10b",
   "metadata": {},
   "outputs": [
    {
     "data": {
      "text/html": [
       "<div>\n",
       "<style scoped>\n",
       "    .dataframe tbody tr th:only-of-type {\n",
       "        vertical-align: middle;\n",
       "    }\n",
       "\n",
       "    .dataframe tbody tr th {\n",
       "        vertical-align: top;\n",
       "    }\n",
       "\n",
       "    .dataframe thead th {\n",
       "        text-align: right;\n",
       "    }\n",
       "</style>\n",
       "<table border=\"1\" class=\"dataframe\">\n",
       "  <thead>\n",
       "    <tr style=\"text-align: right;\">\n",
       "      <th></th>\n",
       "      <th>Amount</th>\n",
       "    </tr>\n",
       "  </thead>\n",
       "  <tbody>\n",
       "    <tr>\n",
       "      <th>stock/bond</th>\n",
       "      <td>60689.500</td>\n",
       "    </tr>\n",
       "    <tr>\n",
       "      <th>crypto</th>\n",
       "      <td>58096.152</td>\n",
       "    </tr>\n",
       "  </tbody>\n",
       "</table>\n",
       "</div>"
      ],
      "text/plain": [
       "               Amount\n",
       "stock/bond  60689.500\n",
       "crypto      58096.152"
      ]
     },
     "execution_count": 49,
     "metadata": {},
     "output_type": "execute_result"
    }
   ],
   "source": [
    "# Create a Pandas DataFrame called savings_df \n",
    "# YOUR CODE HERE\n",
    " \n",
    "savings_df = pd.DataFrame(savings_data, columns = ['Amount'], index = ['stock/bond', 'crypto'])\n",
    "\n",
    "# Display the savings_df DataFrame\n",
    "# YOUR CODE HERE\n",
    "savings_df"
   ]
  },
  {
   "cell_type": "code",
   "execution_count": 51,
   "id": "20875d50-3265-4792-8e7e-8f822fe1076f",
   "metadata": {},
   "outputs": [
    {
     "data": {
      "text/plain": [
       "<AxesSubplot:title={'center':'Total Value of Member`s Portfolio'}, ylabel='Amount'>"
      ]
     },
     "execution_count": 51,
     "metadata": {},
     "output_type": "execute_result"
    },
    {
     "data": {
      "image/png": "[encoded data removed]",
      "text/plain": [
       "<Figure size 504x504 with 1 Axes>"
      ]
     },
     "metadata": {},
     "output_type": "display_data"
    }
   ],
   "source": [
    "# Plot the total value of the member's portfolio (crypto and stock/bond) in a pie chart\n",
    "# YOUR CODE HERE\n",
    "savings_df.plot.pie(figsize=(7, 7), y='Amount', title='Total Value of Member`s Portfolio')"
   ]
  },
  {
   "cell_type": "markdown",
   "id": "3bf2f56f-e4f2-498d-9277-ec46164e9df8",
   "metadata": {},
   "source": [
    "#### Step 4: Using Python, determine if the current portfolio has enough to create an emergency fund as part of the member’s financial plan. Ideally, an emergency fund should equal to three times the member’s monthly income. To do this, implement the following steps:\n",
    "\n",
    "Step 1. Create a variable named `emergency_fund_value`, and set it equal to three times the value of the member’s `monthly_income` of 12000. (You set this earlier in Part 1).\n",
    "\n",
    "Step 2. Create a series of three if statements to determine if the member’s total portfolio is large enough to fund the emergency portfolio:\n",
    "\n",
    "* If the total portfolio value is greater than the emergency fund value, display a message congratulating the member for having enough money in this fund.\n",
    "\n",
    "* Else if the total portfolio value is equal to the emergency fund value, display a message congratulating the member on reaching this important financial goal.\n",
    "\n",
    "* Else the total portfolio is less than the emergency fund value, so display a message showing how many dollars away the member is from reaching the goal. (Subtract the total portfolio value from the emergency fund value.)\n"
   ]
  },
  {
   "cell_type": "markdown",
   "id": "88c92339-c6a4-432b-a18c-aa555dcccc75",
   "metadata": {},
   "source": [
    "##### Step 4-1: Create a variable named `emergency_fund_value`, and set it equal to three times the value of the member’s `monthly_income` of 12000. (You set this earlier in Part 1)."
   ]
  },
  {
   "cell_type": "code",
   "execution_count": 52,
   "id": "9a12d9c2-42b2-4546-9d6b-73cfdb7024b5",
   "metadata": {},
   "outputs": [
    {
     "data": {
      "text/plain": [
       "36000"
      ]
     },
     "execution_count": 52,
     "metadata": {},
     "output_type": "execute_result"
    }
   ],
   "source": [
    "# Create a variable named emergency_fund_value\n",
    "# YOUR CODE HERE\n",
    "emergency_fund_value = 3 * monthly_income\n",
    "\n",
    "emergency_fund_value"
   ]
  },
  {
   "cell_type": "markdown",
   "id": "71ba1934-6498-48d0-9e0b-50f9c31718fd",
   "metadata": {},
   "source": [
    "##### Step 4-2: Create a series of three if statements to determine if the member’s total portfolio is large enough to fund the emergency portfolio:\n",
    "\n",
    "* If the total portfolio value is greater than the emergency fund value, display a message congratulating the member for having enough money in this fund.\n",
    "\n",
    "* Else if the total portfolio value is equal to the emergency fund value, display a message congratulating the member on reaching this important financial goal.\n",
    "\n",
    "* Else the total portfolio is less than the emergency fund value, so display a message showing how many dollars away the member is from reaching the goal. (Subtract the total portfolio value from the emergency fund value.)"
   ]
  },
  {
   "cell_type": "code",
   "execution_count": 53,
   "id": "0b1c11a0-25e2-4628-bb47-5adf1fdf9ad6",
   "metadata": {},
   "outputs": [
    {
     "name": "stdout",
     "output_type": "stream",
     "text": [
      "Congratulations, You have enough money in this fund.\n"
     ]
    }
   ],
   "source": [
    "# Evaluate the possibility of creating an emergency fund with 3 conditions:\n",
    "if total_portfolio > emergency_fund_value:\n",
    "    print(\"Congratulations, You have enough money in this fund.\")\n",
    "elif total_portfolio == emergency_fund_value:\n",
    "     print(\"Congratulations, You have reached an important financial achievement.\")\n",
    "else: \n",
    "    print(f'To achieve your financial goal, continue to save and invest; You are only ${emergency_fund_value-total_portfolio} away of reaching this important milestone.')"
   ]
  },
  {
   "cell_type": "markdown",
   "id": "1d80fc9a-d61f-4a8f-a5e8-a8fa675d4eb0",
   "metadata": {},
   "source": [
    "## Part 2: Create a Financial Planner for Retirement"
   ]
  },
  {
   "cell_type": "markdown",
   "id": "4c845bb8-21c0-48b3-81ef-8d51e9cf3ed7",
   "metadata": {},
   "source": [
    "### Create the Monte Carlo Simulation\n",
    "\n",
    "In this section, you’ll use the MCForecastTools library to create a Monte Carlo simulation for the member’s savings portfolio. To do this, complete the following steps:\n",
    "\n",
    "1. Make an API call via the Alpaca SDK to get 3 years of historical closing prices for a traditional 60/40 portfolio split: 60% stocks (SPY) and 40% bonds (AGG).\n",
    "\n",
    "2. Run a Monte Carlo simulation of 500 samples and 30 years for the 60/40 portfolio, and then plot the results.The following image shows the overlay line plot resulting from a simulation with these characteristics. However, because a random number generator is used to run each live Monte Carlo simulation, your image will differ slightly from this exact image:\n",
    "\n",
    "![A screenshot depicts the resulting plot.](Images/5-4-monte-carlo-line-plot.png)\n",
    "\n",
    "3. Plot the probability distribution of the Monte Carlo simulation. Plot the probability distribution of the Monte Carlo simulation. The following image shows the histogram plot resulting from a simulation with these characteristics. However, because a random number generator is used to run each live Monte Carlo simulation, your image will differ slightly from this exact image:\n",
    "\n",
    "![A screenshot depicts the histogram plot.](Images/5-4-monte-carlo-histogram.png)\n",
    "\n",
    "4. Generate the summary statistics for the Monte Carlo simulation.\n",
    "\n"
   ]
  },
  {
   "cell_type": "markdown",
   "id": "a97302dd-400e-42f3-8582-20e4b8d7e752",
   "metadata": {},
   "source": [
    "#### Step 1: Make an API call via the Alpaca SDK to get 3 years of historical closing prices for a traditional 60/40 portfolio split: 60% stocks (SPY) and 40% bonds (AGG)."
   ]
  },
  {
   "cell_type": "code",
   "execution_count": 54,
   "id": "b008a458-f9fc-4a40-a6dd-2488f066b2b3",
   "metadata": {},
   "outputs": [],
   "source": [
    "# Set start and end dates of 3 years back from your current date\n",
    "# Alternatively, you can use an end date of 2020-08-07 and work 3 years back from that date \n",
    "start_date = pd.Timestamp('2017-08-07', tz='America/New_York').isoformat()\n",
    "end_date = pd.Timestamp('2020-08-07', tz='America/New_York').isoformat()\n",
    "\n",
    "# Set number of rows to 1000 to retrieve the maximum amount of rows\n",
    "#limit_rows = 1000"
   ]
  },
  {
   "cell_type": "code",
   "execution_count": 55,
   "id": "756fffb0-af42-4824-9b5d-4e1b383d8dc9",
   "metadata": {},
   "outputs": [
    {
     "data": {
      "text/html": [
       "<div>\n",
       "<style scoped>\n",
       "    .dataframe tbody tr th:only-of-type {\n",
       "        vertical-align: middle;\n",
       "    }\n",
       "\n",
       "    .dataframe tbody tr th {\n",
       "        vertical-align: top;\n",
       "    }\n",
       "\n",
       "    .dataframe thead tr th {\n",
       "        text-align: left;\n",
       "    }\n",
       "\n",
       "    .dataframe thead tr:last-of-type th {\n",
       "        text-align: right;\n",
       "    }\n",
       "</style>\n",
       "<table border=\"1\" class=\"dataframe\">\n",
       "  <thead>\n",
       "    <tr>\n",
       "      <th></th>\n",
       "      <th colspan=\"5\" halign=\"left\">AGG</th>\n",
       "      <th colspan=\"5\" halign=\"left\">SPY</th>\n",
       "    </tr>\n",
       "    <tr>\n",
       "      <th></th>\n",
       "      <th>open</th>\n",
       "      <th>high</th>\n",
       "      <th>low</th>\n",
       "      <th>close</th>\n",
       "      <th>volume</th>\n",
       "      <th>open</th>\n",
       "      <th>high</th>\n",
       "      <th>low</th>\n",
       "      <th>close</th>\n",
       "      <th>volume</th>\n",
       "    </tr>\n",
       "    <tr>\n",
       "      <th>time</th>\n",
       "      <th></th>\n",
       "      <th></th>\n",
       "      <th></th>\n",
       "      <th></th>\n",
       "      <th></th>\n",
       "      <th></th>\n",
       "      <th></th>\n",
       "      <th></th>\n",
       "      <th></th>\n",
       "      <th></th>\n",
       "    </tr>\n",
       "  </thead>\n",
       "  <tbody>\n",
       "    <tr>\n",
       "      <th>2017-08-07 00:00:00-04:00</th>\n",
       "      <td>109.69</td>\n",
       "      <td>109.72</td>\n",
       "      <td>109.6066</td>\n",
       "      <td>109.6850</td>\n",
       "      <td>1425317.0</td>\n",
       "      <td>247.49</td>\n",
       "      <td>247.87</td>\n",
       "      <td>247.37</td>\n",
       "      <td>247.850</td>\n",
       "      <td>20901988</td>\n",
       "    </tr>\n",
       "    <tr>\n",
       "      <th>2017-08-08 00:00:00-04:00</th>\n",
       "      <td>109.67</td>\n",
       "      <td>109.69</td>\n",
       "      <td>109.5000</td>\n",
       "      <td>109.5810</td>\n",
       "      <td>1998999.0</td>\n",
       "      <td>247.51</td>\n",
       "      <td>248.91</td>\n",
       "      <td>246.83</td>\n",
       "      <td>247.291</td>\n",
       "      <td>44619069</td>\n",
       "    </tr>\n",
       "    <tr>\n",
       "      <th>2017-08-09 00:00:00-04:00</th>\n",
       "      <td>109.87</td>\n",
       "      <td>109.87</td>\n",
       "      <td>109.6600</td>\n",
       "      <td>109.6700</td>\n",
       "      <td>2069028.0</td>\n",
       "      <td>246.47</td>\n",
       "      <td>247.31</td>\n",
       "      <td>246.06</td>\n",
       "      <td>247.230</td>\n",
       "      <td>48543032</td>\n",
       "    </tr>\n",
       "    <tr>\n",
       "      <th>2017-08-10 00:00:00-04:00</th>\n",
       "      <td>109.70</td>\n",
       "      <td>109.85</td>\n",
       "      <td>109.6700</td>\n",
       "      <td>109.8053</td>\n",
       "      <td>1691677.0</td>\n",
       "      <td>246.28</td>\n",
       "      <td>246.44</td>\n",
       "      <td>243.70</td>\n",
       "      <td>243.790</td>\n",
       "      <td>87857827</td>\n",
       "    </tr>\n",
       "    <tr>\n",
       "      <th>2017-08-11 00:00:00-04:00</th>\n",
       "      <td>109.75</td>\n",
       "      <td>109.94</td>\n",
       "      <td>109.6800</td>\n",
       "      <td>109.8850</td>\n",
       "      <td>1613467.0</td>\n",
       "      <td>244.02</td>\n",
       "      <td>244.80</td>\n",
       "      <td>243.75</td>\n",
       "      <td>244.110</td>\n",
       "      <td>56404847</td>\n",
       "    </tr>\n",
       "  </tbody>\n",
       "</table>\n",
       "</div>"
      ],
      "text/plain": [
       "                              AGG                                         \\\n",
       "                             open    high       low     close     volume   \n",
       "time                                                                       \n",
       "2017-08-07 00:00:00-04:00  109.69  109.72  109.6066  109.6850  1425317.0   \n",
       "2017-08-08 00:00:00-04:00  109.67  109.69  109.5000  109.5810  1998999.0   \n",
       "2017-08-09 00:00:00-04:00  109.87  109.87  109.6600  109.6700  2069028.0   \n",
       "2017-08-10 00:00:00-04:00  109.70  109.85  109.6700  109.8053  1691677.0   \n",
       "2017-08-11 00:00:00-04:00  109.75  109.94  109.6800  109.8850  1613467.0   \n",
       "\n",
       "                              SPY                                     \n",
       "                             open    high     low    close    volume  \n",
       "time                                                                  \n",
       "2017-08-07 00:00:00-04:00  247.49  247.87  247.37  247.850  20901988  \n",
       "2017-08-08 00:00:00-04:00  247.51  248.91  246.83  247.291  44619069  \n",
       "2017-08-09 00:00:00-04:00  246.47  247.31  246.06  247.230  48543032  \n",
       "2017-08-10 00:00:00-04:00  246.28  246.44  243.70  243.790  87857827  \n",
       "2017-08-11 00:00:00-04:00  244.02  244.80  243.75  244.110  56404847  "
      ]
     },
     "execution_count": 55,
     "metadata": {},
     "output_type": "execute_result"
    }
   ],
   "source": [
    "# Use the Alpaca get_barset function to make the API call to get the 3 years worth of pricing data\n",
    "# The tickers and timeframe parameters should have been set in Part 1 of this activity \n",
    "# The start and end dates should be updated with the information set above\n",
    "# Remember to add the df property to the end of the call so the response is returned as a DataFrame\n",
    "\n",
    "stocks_bonds_df = alpaca.get_barset(\n",
    "    tickers,\n",
    "    timeframe,\n",
    "    start = start_date,\n",
    "    end = end_date,\n",
    "    limit=1000\n",
    ").df\n",
    "\n",
    "# Display both the first and last five rows of the DataFrame\n",
    "stocks_bonds_df.head()\n"
   ]
  },
  {
   "cell_type": "code",
   "execution_count": 56,
   "id": "a1453eab-4d4b-4317-b669-62c9f8103ab7",
   "metadata": {},
   "outputs": [
    {
     "data": {
      "text/html": [
       "<div>\n",
       "<style scoped>\n",
       "    .dataframe tbody tr th:only-of-type {\n",
       "        vertical-align: middle;\n",
       "    }\n",
       "\n",
       "    .dataframe tbody tr th {\n",
       "        vertical-align: top;\n",
       "    }\n",
       "\n",
       "    .dataframe thead tr th {\n",
       "        text-align: left;\n",
       "    }\n",
       "\n",
       "    .dataframe thead tr:last-of-type th {\n",
       "        text-align: right;\n",
       "    }\n",
       "</style>\n",
       "<table border=\"1\" class=\"dataframe\">\n",
       "  <thead>\n",
       "    <tr>\n",
       "      <th></th>\n",
       "      <th colspan=\"5\" halign=\"left\">AGG</th>\n",
       "      <th colspan=\"5\" halign=\"left\">SPY</th>\n",
       "    </tr>\n",
       "    <tr>\n",
       "      <th></th>\n",
       "      <th>open</th>\n",
       "      <th>high</th>\n",
       "      <th>low</th>\n",
       "      <th>close</th>\n",
       "      <th>volume</th>\n",
       "      <th>open</th>\n",
       "      <th>high</th>\n",
       "      <th>low</th>\n",
       "      <th>close</th>\n",
       "      <th>volume</th>\n",
       "    </tr>\n",
       "    <tr>\n",
       "      <th>time</th>\n",
       "      <th></th>\n",
       "      <th></th>\n",
       "      <th></th>\n",
       "      <th></th>\n",
       "      <th></th>\n",
       "      <th></th>\n",
       "      <th></th>\n",
       "      <th></th>\n",
       "      <th></th>\n",
       "      <th></th>\n",
       "    </tr>\n",
       "  </thead>\n",
       "  <tbody>\n",
       "    <tr>\n",
       "      <th>2020-08-03 00:00:00-04:00</th>\n",
       "      <td>119.37</td>\n",
       "      <td>119.40</td>\n",
       "      <td>119.1903</td>\n",
       "      <td>119.400</td>\n",
       "      <td>17837420.0</td>\n",
       "      <td>328.3200</td>\n",
       "      <td>329.62</td>\n",
       "      <td>327.73</td>\n",
       "      <td>328.76</td>\n",
       "      <td>71741125</td>\n",
       "    </tr>\n",
       "    <tr>\n",
       "      <th>2020-08-04 00:00:00-04:00</th>\n",
       "      <td>119.42</td>\n",
       "      <td>119.63</td>\n",
       "      <td>119.4200</td>\n",
       "      <td>119.630</td>\n",
       "      <td>21512268.0</td>\n",
       "      <td>327.8600</td>\n",
       "      <td>330.06</td>\n",
       "      <td>327.86</td>\n",
       "      <td>330.03</td>\n",
       "      <td>73684427</td>\n",
       "    </tr>\n",
       "    <tr>\n",
       "      <th>2020-08-05 00:00:00-04:00</th>\n",
       "      <td>119.39</td>\n",
       "      <td>119.49</td>\n",
       "      <td>119.3100</td>\n",
       "      <td>119.400</td>\n",
       "      <td>34175883.0</td>\n",
       "      <td>331.4700</td>\n",
       "      <td>332.39</td>\n",
       "      <td>331.18</td>\n",
       "      <td>332.06</td>\n",
       "      <td>72846458</td>\n",
       "    </tr>\n",
       "    <tr>\n",
       "      <th>2020-08-06 00:00:00-04:00</th>\n",
       "      <td>119.62</td>\n",
       "      <td>119.73</td>\n",
       "      <td>119.5300</td>\n",
       "      <td>119.580</td>\n",
       "      <td>9009216.0</td>\n",
       "      <td>331.4799</td>\n",
       "      <td>334.46</td>\n",
       "      <td>331.13</td>\n",
       "      <td>334.31</td>\n",
       "      <td>76900649</td>\n",
       "    </tr>\n",
       "    <tr>\n",
       "      <th>2020-08-07 00:00:00-04:00</th>\n",
       "      <td>119.66</td>\n",
       "      <td>119.73</td>\n",
       "      <td>119.3950</td>\n",
       "      <td>119.445</td>\n",
       "      <td>8830420.0</td>\n",
       "      <td>333.2800</td>\n",
       "      <td>334.88</td>\n",
       "      <td>332.30</td>\n",
       "      <td>334.55</td>\n",
       "      <td>98710236</td>\n",
       "    </tr>\n",
       "  </tbody>\n",
       "</table>\n",
       "</div>"
      ],
      "text/plain": [
       "                              AGG                                         \\\n",
       "                             open    high       low    close      volume   \n",
       "time                                                                       \n",
       "2020-08-03 00:00:00-04:00  119.37  119.40  119.1903  119.400  17837420.0   \n",
       "2020-08-04 00:00:00-04:00  119.42  119.63  119.4200  119.630  21512268.0   \n",
       "2020-08-05 00:00:00-04:00  119.39  119.49  119.3100  119.400  34175883.0   \n",
       "2020-08-06 00:00:00-04:00  119.62  119.73  119.5300  119.580   9009216.0   \n",
       "2020-08-07 00:00:00-04:00  119.66  119.73  119.3950  119.445   8830420.0   \n",
       "\n",
       "                                SPY                                    \n",
       "                               open    high     low   close    volume  \n",
       "time                                                                   \n",
       "2020-08-03 00:00:00-04:00  328.3200  329.62  327.73  328.76  71741125  \n",
       "2020-08-04 00:00:00-04:00  327.8600  330.06  327.86  330.03  73684427  \n",
       "2020-08-05 00:00:00-04:00  331.4700  332.39  331.18  332.06  72846458  \n",
       "2020-08-06 00:00:00-04:00  331.4799  334.46  331.13  334.31  76900649  \n",
       "2020-08-07 00:00:00-04:00  333.2800  334.88  332.30  334.55  98710236  "
      ]
     },
     "execution_count": 56,
     "metadata": {},
     "output_type": "execute_result"
    }
   ],
   "source": [
    "stocks_bonds_df.tail()"
   ]
  },
  {
   "cell_type": "markdown",
   "id": "add37931-6f67-409d-a53a-0adcf5992b38",
   "metadata": {},
   "source": [
    "#### Step 2: Run a Monte Carlo simulation of 500 samples and 30 years for the 60/40 portfolio, and then plot the results."
   ]
  },
  {
   "cell_type": "code",
   "execution_count": 58,
   "id": "4e2bb6d9-099b-40ca-b800-28e6ed20d2ae",
   "metadata": {},
   "outputs": [
    {
     "data": {
      "text/html": [
       "<div>\n",
       "<style scoped>\n",
       "    .dataframe tbody tr th:only-of-type {\n",
       "        vertical-align: middle;\n",
       "    }\n",
       "\n",
       "    .dataframe tbody tr th {\n",
       "        vertical-align: top;\n",
       "    }\n",
       "\n",
       "    .dataframe thead tr th {\n",
       "        text-align: left;\n",
       "    }\n",
       "\n",
       "    .dataframe thead tr:last-of-type th {\n",
       "        text-align: right;\n",
       "    }\n",
       "</style>\n",
       "<table border=\"1\" class=\"dataframe\">\n",
       "  <thead>\n",
       "    <tr>\n",
       "      <th></th>\n",
       "      <th colspan=\"6\" halign=\"left\">AGG</th>\n",
       "      <th colspan=\"6\" halign=\"left\">SPY</th>\n",
       "    </tr>\n",
       "    <tr>\n",
       "      <th></th>\n",
       "      <th>open</th>\n",
       "      <th>high</th>\n",
       "      <th>low</th>\n",
       "      <th>close</th>\n",
       "      <th>volume</th>\n",
       "      <th>daily_return</th>\n",
       "      <th>open</th>\n",
       "      <th>high</th>\n",
       "      <th>low</th>\n",
       "      <th>close</th>\n",
       "      <th>volume</th>\n",
       "      <th>daily_return</th>\n",
       "    </tr>\n",
       "    <tr>\n",
       "      <th>time</th>\n",
       "      <th></th>\n",
       "      <th></th>\n",
       "      <th></th>\n",
       "      <th></th>\n",
       "      <th></th>\n",
       "      <th></th>\n",
       "      <th></th>\n",
       "      <th></th>\n",
       "      <th></th>\n",
       "      <th></th>\n",
       "      <th></th>\n",
       "      <th></th>\n",
       "    </tr>\n",
       "  </thead>\n",
       "  <tbody>\n",
       "    <tr>\n",
       "      <th>2017-08-07 00:00:00-04:00</th>\n",
       "      <td>109.69</td>\n",
       "      <td>109.72</td>\n",
       "      <td>109.6066</td>\n",
       "      <td>109.6850</td>\n",
       "      <td>1425317.0</td>\n",
       "      <td>NaN</td>\n",
       "      <td>247.49</td>\n",
       "      <td>247.87</td>\n",
       "      <td>247.37</td>\n",
       "      <td>247.850</td>\n",
       "      <td>20901988</td>\n",
       "      <td>NaN</td>\n",
       "    </tr>\n",
       "    <tr>\n",
       "      <th>2017-08-08 00:00:00-04:00</th>\n",
       "      <td>109.67</td>\n",
       "      <td>109.69</td>\n",
       "      <td>109.5000</td>\n",
       "      <td>109.5810</td>\n",
       "      <td>1998999.0</td>\n",
       "      <td>-0.000948</td>\n",
       "      <td>247.51</td>\n",
       "      <td>248.91</td>\n",
       "      <td>246.83</td>\n",
       "      <td>247.291</td>\n",
       "      <td>44619069</td>\n",
       "      <td>-0.002255</td>\n",
       "    </tr>\n",
       "    <tr>\n",
       "      <th>2017-08-09 00:00:00-04:00</th>\n",
       "      <td>109.87</td>\n",
       "      <td>109.87</td>\n",
       "      <td>109.6600</td>\n",
       "      <td>109.6700</td>\n",
       "      <td>2069028.0</td>\n",
       "      <td>0.000812</td>\n",
       "      <td>246.47</td>\n",
       "      <td>247.31</td>\n",
       "      <td>246.06</td>\n",
       "      <td>247.230</td>\n",
       "      <td>48543032</td>\n",
       "      <td>-0.000247</td>\n",
       "    </tr>\n",
       "    <tr>\n",
       "      <th>2017-08-10 00:00:00-04:00</th>\n",
       "      <td>109.70</td>\n",
       "      <td>109.85</td>\n",
       "      <td>109.6700</td>\n",
       "      <td>109.8053</td>\n",
       "      <td>1691677.0</td>\n",
       "      <td>0.001234</td>\n",
       "      <td>246.28</td>\n",
       "      <td>246.44</td>\n",
       "      <td>243.70</td>\n",
       "      <td>243.790</td>\n",
       "      <td>87857827</td>\n",
       "      <td>-0.013914</td>\n",
       "    </tr>\n",
       "    <tr>\n",
       "      <th>2017-08-11 00:00:00-04:00</th>\n",
       "      <td>109.75</td>\n",
       "      <td>109.94</td>\n",
       "      <td>109.6800</td>\n",
       "      <td>109.8850</td>\n",
       "      <td>1613467.0</td>\n",
       "      <td>0.000726</td>\n",
       "      <td>244.02</td>\n",
       "      <td>244.80</td>\n",
       "      <td>243.75</td>\n",
       "      <td>244.110</td>\n",
       "      <td>56404847</td>\n",
       "      <td>0.001313</td>\n",
       "    </tr>\n",
       "  </tbody>\n",
       "</table>\n",
       "</div>"
      ],
      "text/plain": [
       "                              AGG                                         \\\n",
       "                             open    high       low     close     volume   \n",
       "time                                                                       \n",
       "2017-08-07 00:00:00-04:00  109.69  109.72  109.6066  109.6850  1425317.0   \n",
       "2017-08-08 00:00:00-04:00  109.67  109.69  109.5000  109.5810  1998999.0   \n",
       "2017-08-09 00:00:00-04:00  109.87  109.87  109.6600  109.6700  2069028.0   \n",
       "2017-08-10 00:00:00-04:00  109.70  109.85  109.6700  109.8053  1691677.0   \n",
       "2017-08-11 00:00:00-04:00  109.75  109.94  109.6800  109.8850  1613467.0   \n",
       "\n",
       "                                           SPY                           \\\n",
       "                          daily_return    open    high     low    close   \n",
       "time                                                                      \n",
       "2017-08-07 00:00:00-04:00          NaN  247.49  247.87  247.37  247.850   \n",
       "2017-08-08 00:00:00-04:00    -0.000948  247.51  248.91  246.83  247.291   \n",
       "2017-08-09 00:00:00-04:00     0.000812  246.47  247.31  246.06  247.230   \n",
       "2017-08-10 00:00:00-04:00     0.001234  246.28  246.44  243.70  243.790   \n",
       "2017-08-11 00:00:00-04:00     0.000726  244.02  244.80  243.75  244.110   \n",
       "\n",
       "                                                  \n",
       "                             volume daily_return  \n",
       "time                                              \n",
       "2017-08-07 00:00:00-04:00  20901988          NaN  \n",
       "2017-08-08 00:00:00-04:00  44619069    -0.002255  \n",
       "2017-08-09 00:00:00-04:00  48543032    -0.000247  \n",
       "2017-08-10 00:00:00-04:00  87857827    -0.013914  \n",
       "2017-08-11 00:00:00-04:00  56404847     0.001313  "
      ]
     },
     "execution_count": 58,
     "metadata": {},
     "output_type": "execute_result"
    }
   ],
   "source": [
    "# Configure the Monte Carlo simulation to forecast 30 years cumulative returns\n",
    "# The weights should be split 40% to AGG and 60% to SPY.\n",
    "# Run 500 samples.\n",
    "\n",
    "MC_thirtyyear_cumulative = MCSimulation(\n",
    "    portfolio_data = stocks_bonds_df,\n",
    "    weights = [.40, .60],\n",
    "    num_simulation = 500,\n",
    "    num_trading_days = 252 * 30\n",
    ")\n",
    "# Review the simulation input data\n",
    "MC_thirtyyear_cumulative.portfolio_data.head()"
   ]
  },
  {
   "cell_type": "code",
   "execution_count": 59,
   "id": "dbd609f4-8006-4ce9-9e2f-95cfca744dd9",
   "metadata": {},
   "outputs": [
    {
     "data": {
      "text/html": [
       "<div>\n",
       "<style scoped>\n",
       "    .dataframe tbody tr th:only-of-type {\n",
       "        vertical-align: middle;\n",
       "    }\n",
       "\n",
       "    .dataframe tbody tr th {\n",
       "        vertical-align: top;\n",
       "    }\n",
       "\n",
       "    .dataframe thead tr th {\n",
       "        text-align: left;\n",
       "    }\n",
       "\n",
       "    .dataframe thead tr:last-of-type th {\n",
       "        text-align: right;\n",
       "    }\n",
       "</style>\n",
       "<table border=\"1\" class=\"dataframe\">\n",
       "  <thead>\n",
       "    <tr>\n",
       "      <th></th>\n",
       "      <th colspan=\"6\" halign=\"left\">AGG</th>\n",
       "      <th colspan=\"6\" halign=\"left\">SPY</th>\n",
       "    </tr>\n",
       "    <tr>\n",
       "      <th></th>\n",
       "      <th>open</th>\n",
       "      <th>high</th>\n",
       "      <th>low</th>\n",
       "      <th>close</th>\n",
       "      <th>volume</th>\n",
       "      <th>daily_return</th>\n",
       "      <th>open</th>\n",
       "      <th>high</th>\n",
       "      <th>low</th>\n",
       "      <th>close</th>\n",
       "      <th>volume</th>\n",
       "      <th>daily_return</th>\n",
       "    </tr>\n",
       "    <tr>\n",
       "      <th>time</th>\n",
       "      <th></th>\n",
       "      <th></th>\n",
       "      <th></th>\n",
       "      <th></th>\n",
       "      <th></th>\n",
       "      <th></th>\n",
       "      <th></th>\n",
       "      <th></th>\n",
       "      <th></th>\n",
       "      <th></th>\n",
       "      <th></th>\n",
       "      <th></th>\n",
       "    </tr>\n",
       "  </thead>\n",
       "  <tbody>\n",
       "    <tr>\n",
       "      <th>2020-08-03 00:00:00-04:00</th>\n",
       "      <td>119.37</td>\n",
       "      <td>119.40</td>\n",
       "      <td>119.1903</td>\n",
       "      <td>119.400</td>\n",
       "      <td>17837420.0</td>\n",
       "      <td>-0.001338</td>\n",
       "      <td>328.3200</td>\n",
       "      <td>329.62</td>\n",
       "      <td>327.73</td>\n",
       "      <td>328.76</td>\n",
       "      <td>71741125</td>\n",
       "      <td>0.006768</td>\n",
       "    </tr>\n",
       "    <tr>\n",
       "      <th>2020-08-04 00:00:00-04:00</th>\n",
       "      <td>119.42</td>\n",
       "      <td>119.63</td>\n",
       "      <td>119.4200</td>\n",
       "      <td>119.630</td>\n",
       "      <td>21512268.0</td>\n",
       "      <td>0.001926</td>\n",
       "      <td>327.8600</td>\n",
       "      <td>330.06</td>\n",
       "      <td>327.86</td>\n",
       "      <td>330.03</td>\n",
       "      <td>73684427</td>\n",
       "      <td>0.003863</td>\n",
       "    </tr>\n",
       "    <tr>\n",
       "      <th>2020-08-05 00:00:00-04:00</th>\n",
       "      <td>119.39</td>\n",
       "      <td>119.49</td>\n",
       "      <td>119.3100</td>\n",
       "      <td>119.400</td>\n",
       "      <td>34175883.0</td>\n",
       "      <td>-0.001923</td>\n",
       "      <td>331.4700</td>\n",
       "      <td>332.39</td>\n",
       "      <td>331.18</td>\n",
       "      <td>332.06</td>\n",
       "      <td>72846458</td>\n",
       "      <td>0.006151</td>\n",
       "    </tr>\n",
       "    <tr>\n",
       "      <th>2020-08-06 00:00:00-04:00</th>\n",
       "      <td>119.62</td>\n",
       "      <td>119.73</td>\n",
       "      <td>119.5300</td>\n",
       "      <td>119.580</td>\n",
       "      <td>9009216.0</td>\n",
       "      <td>0.001508</td>\n",
       "      <td>331.4799</td>\n",
       "      <td>334.46</td>\n",
       "      <td>331.13</td>\n",
       "      <td>334.31</td>\n",
       "      <td>76900649</td>\n",
       "      <td>0.006776</td>\n",
       "    </tr>\n",
       "    <tr>\n",
       "      <th>2020-08-07 00:00:00-04:00</th>\n",
       "      <td>119.66</td>\n",
       "      <td>119.73</td>\n",
       "      <td>119.3950</td>\n",
       "      <td>119.445</td>\n",
       "      <td>8830420.0</td>\n",
       "      <td>-0.001129</td>\n",
       "      <td>333.2800</td>\n",
       "      <td>334.88</td>\n",
       "      <td>332.30</td>\n",
       "      <td>334.55</td>\n",
       "      <td>98710236</td>\n",
       "      <td>0.000718</td>\n",
       "    </tr>\n",
       "  </tbody>\n",
       "</table>\n",
       "</div>"
      ],
      "text/plain": [
       "                              AGG                                         \\\n",
       "                             open    high       low    close      volume   \n",
       "time                                                                       \n",
       "2020-08-03 00:00:00-04:00  119.37  119.40  119.1903  119.400  17837420.0   \n",
       "2020-08-04 00:00:00-04:00  119.42  119.63  119.4200  119.630  21512268.0   \n",
       "2020-08-05 00:00:00-04:00  119.39  119.49  119.3100  119.400  34175883.0   \n",
       "2020-08-06 00:00:00-04:00  119.62  119.73  119.5300  119.580   9009216.0   \n",
       "2020-08-07 00:00:00-04:00  119.66  119.73  119.3950  119.445   8830420.0   \n",
       "\n",
       "                                             SPY                          \\\n",
       "                          daily_return      open    high     low   close   \n",
       "time                                                                       \n",
       "2020-08-03 00:00:00-04:00    -0.001338  328.3200  329.62  327.73  328.76   \n",
       "2020-08-04 00:00:00-04:00     0.001926  327.8600  330.06  327.86  330.03   \n",
       "2020-08-05 00:00:00-04:00    -0.001923  331.4700  332.39  331.18  332.06   \n",
       "2020-08-06 00:00:00-04:00     0.001508  331.4799  334.46  331.13  334.31   \n",
       "2020-08-07 00:00:00-04:00    -0.001129  333.2800  334.88  332.30  334.55   \n",
       "\n",
       "                                                  \n",
       "                             volume daily_return  \n",
       "time                                              \n",
       "2020-08-03 00:00:00-04:00  71741125     0.006768  \n",
       "2020-08-04 00:00:00-04:00  73684427     0.003863  \n",
       "2020-08-05 00:00:00-04:00  72846458     0.006151  \n",
       "2020-08-06 00:00:00-04:00  76900649     0.006776  \n",
       "2020-08-07 00:00:00-04:00  98710236     0.000718  "
      ]
     },
     "execution_count": 59,
     "metadata": {},
     "output_type": "execute_result"
    }
   ],
   "source": [
    "# Review the simulation input data\n",
    "MC_thirtyyear_cumulative.portfolio_data.tail()"
   ]
  },
  {
   "cell_type": "code",
   "execution_count": 60,
   "id": "90b129cb-b271-4484-9a97-5a44c79dca7b",
   "metadata": {},
   "outputs": [
    {
     "name": "stdout",
     "output_type": "stream",
     "text": [
      "Running Monte Carlo simulation number 0.\n",
      "Running Monte Carlo simulation number 10.\n",
      "Running Monte Carlo simulation number 20.\n",
      "Running Monte Carlo simulation number 30.\n",
      "Running Monte Carlo simulation number 40.\n",
      "Running Monte Carlo simulation number 50.\n",
      "Running Monte Carlo simulation number 60.\n",
      "Running Monte Carlo simulation number 70.\n",
      "Running Monte Carlo simulation number 80.\n",
      "Running Monte Carlo simulation number 90.\n",
      "Running Monte Carlo simulation number 100.\n",
      "Running Monte Carlo simulation number 110.\n",
      "Running Monte Carlo simulation number 120.\n",
      "Running Monte Carlo simulation number 130.\n",
      "Running Monte Carlo simulation number 140.\n",
      "Running Monte Carlo simulation number 150.\n",
      "Running Monte Carlo simulation number 160.\n",
      "Running Monte Carlo simulation number 170.\n",
      "Running Monte Carlo simulation number 180.\n",
      "Running Monte Carlo simulation number 190.\n",
      "Running Monte Carlo simulation number 200.\n",
      "Running Monte Carlo simulation number 210.\n",
      "Running Monte Carlo simulation number 220.\n",
      "Running Monte Carlo simulation number 230.\n",
      "Running Monte Carlo simulation number 240.\n",
      "Running Monte Carlo simulation number 250.\n",
      "Running Monte Carlo simulation number 260.\n",
      "Running Monte Carlo simulation number 270.\n",
      "Running Monte Carlo simulation number 280.\n",
      "Running Monte Carlo simulation number 290.\n",
      "Running Monte Carlo simulation number 300.\n",
      "Running Monte Carlo simulation number 310.\n",
      "Running Monte Carlo simulation number 320.\n",
      "Running Monte Carlo simulation number 330.\n",
      "Running Monte Carlo simulation number 340.\n",
      "Running Monte Carlo simulation number 350.\n",
      "Running Monte Carlo simulation number 360.\n",
      "Running Monte Carlo simulation number 370.\n",
      "Running Monte Carlo simulation number 380.\n",
      "Running Monte Carlo simulation number 390.\n",
      "Running Monte Carlo simulation number 400.\n",
      "Running Monte Carlo simulation number 410.\n",
      "Running Monte Carlo simulation number 420.\n",
      "Running Monte Carlo simulation number 430.\n",
      "Running Monte Carlo simulation number 440.\n",
      "Running Monte Carlo simulation number 450.\n",
      "Running Monte Carlo simulation number 460.\n",
      "Running Monte Carlo simulation number 470.\n",
      "Running Monte Carlo simulation number 480.\n",
      "Running Monte Carlo simulation number 490.\n"
     ]
    },
    {
     "data": {
      "text/html": [
       "<div>\n",
       "<style scoped>\n",
       "    .dataframe tbody tr th:only-of-type {\n",
       "        vertical-align: middle;\n",
       "    }\n",
       "\n",
       "    .dataframe tbody tr th {\n",
       "        vertical-align: top;\n",
       "    }\n",
       "\n",
       "    .dataframe thead th {\n",
       "        text-align: right;\n",
       "    }\n",
       "</style>\n",
       "<table border=\"1\" class=\"dataframe\">\n",
       "  <thead>\n",
       "    <tr style=\"text-align: right;\">\n",
       "      <th></th>\n",
       "      <th>0</th>\n",
       "      <th>1</th>\n",
       "      <th>2</th>\n",
       "      <th>3</th>\n",
       "      <th>4</th>\n",
       "      <th>5</th>\n",
       "      <th>6</th>\n",
       "      <th>7</th>\n",
       "      <th>8</th>\n",
       "      <th>9</th>\n",
       "      <th>...</th>\n",
       "      <th>490</th>\n",
       "      <th>491</th>\n",
       "      <th>492</th>\n",
       "      <th>493</th>\n",
       "      <th>494</th>\n",
       "      <th>495</th>\n",
       "      <th>496</th>\n",
       "      <th>497</th>\n",
       "      <th>498</th>\n",
       "      <th>499</th>\n",
       "    </tr>\n",
       "  </thead>\n",
       "  <tbody>\n",
       "    <tr>\n",
       "      <th>0</th>\n",
       "      <td>1.000000</td>\n",
       "      <td>1.000000</td>\n",
       "      <td>1.000000</td>\n",
       "      <td>1.000000</td>\n",
       "      <td>1.000000</td>\n",
       "      <td>1.000000</td>\n",
       "      <td>1.000000</td>\n",
       "      <td>1.000000</td>\n",
       "      <td>1.000000</td>\n",
       "      <td>1.000000</td>\n",
       "      <td>...</td>\n",
       "      <td>1.000000</td>\n",
       "      <td>1.000000</td>\n",
       "      <td>1.000000</td>\n",
       "      <td>1.000000</td>\n",
       "      <td>1.000000</td>\n",
       "      <td>1.000000</td>\n",
       "      <td>1.000000</td>\n",
       "      <td>1.000000</td>\n",
       "      <td>1.000000</td>\n",
       "      <td>1.000000</td>\n",
       "    </tr>\n",
       "    <tr>\n",
       "      <th>1</th>\n",
       "      <td>0.997740</td>\n",
       "      <td>1.008829</td>\n",
       "      <td>1.005804</td>\n",
       "      <td>0.996757</td>\n",
       "      <td>1.005180</td>\n",
       "      <td>1.005212</td>\n",
       "      <td>0.981789</td>\n",
       "      <td>1.007447</td>\n",
       "      <td>1.000484</td>\n",
       "      <td>0.994195</td>\n",
       "      <td>...</td>\n",
       "      <td>1.001656</td>\n",
       "      <td>1.000539</td>\n",
       "      <td>0.988683</td>\n",
       "      <td>0.996865</td>\n",
       "      <td>0.995940</td>\n",
       "      <td>0.996143</td>\n",
       "      <td>1.001371</td>\n",
       "      <td>0.996137</td>\n",
       "      <td>0.996617</td>\n",
       "      <td>1.010000</td>\n",
       "    </tr>\n",
       "    <tr>\n",
       "      <th>2</th>\n",
       "      <td>0.991114</td>\n",
       "      <td>1.017405</td>\n",
       "      <td>1.006224</td>\n",
       "      <td>0.991736</td>\n",
       "      <td>0.996038</td>\n",
       "      <td>0.990748</td>\n",
       "      <td>0.983286</td>\n",
       "      <td>1.012380</td>\n",
       "      <td>0.987227</td>\n",
       "      <td>0.991234</td>\n",
       "      <td>...</td>\n",
       "      <td>0.993698</td>\n",
       "      <td>1.001632</td>\n",
       "      <td>0.984909</td>\n",
       "      <td>0.998086</td>\n",
       "      <td>0.993963</td>\n",
       "      <td>0.987765</td>\n",
       "      <td>1.003015</td>\n",
       "      <td>0.998936</td>\n",
       "      <td>1.014479</td>\n",
       "      <td>1.014344</td>\n",
       "    </tr>\n",
       "    <tr>\n",
       "      <th>3</th>\n",
       "      <td>0.986075</td>\n",
       "      <td>1.019482</td>\n",
       "      <td>1.015417</td>\n",
       "      <td>0.994820</td>\n",
       "      <td>0.999332</td>\n",
       "      <td>0.981618</td>\n",
       "      <td>0.971514</td>\n",
       "      <td>1.019818</td>\n",
       "      <td>0.988737</td>\n",
       "      <td>0.993970</td>\n",
       "      <td>...</td>\n",
       "      <td>0.991558</td>\n",
       "      <td>1.013691</td>\n",
       "      <td>0.995517</td>\n",
       "      <td>0.975032</td>\n",
       "      <td>0.991432</td>\n",
       "      <td>0.983332</td>\n",
       "      <td>1.015501</td>\n",
       "      <td>0.981896</td>\n",
       "      <td>1.017036</td>\n",
       "      <td>1.015230</td>\n",
       "    </tr>\n",
       "    <tr>\n",
       "      <th>4</th>\n",
       "      <td>0.958053</td>\n",
       "      <td>1.009180</td>\n",
       "      <td>1.012119</td>\n",
       "      <td>0.996343</td>\n",
       "      <td>0.983166</td>\n",
       "      <td>0.980202</td>\n",
       "      <td>0.959325</td>\n",
       "      <td>1.023426</td>\n",
       "      <td>0.995959</td>\n",
       "      <td>0.997034</td>\n",
       "      <td>...</td>\n",
       "      <td>0.982474</td>\n",
       "      <td>1.013885</td>\n",
       "      <td>0.993774</td>\n",
       "      <td>0.971102</td>\n",
       "      <td>0.991258</td>\n",
       "      <td>0.969519</td>\n",
       "      <td>1.021644</td>\n",
       "      <td>0.989793</td>\n",
       "      <td>1.011998</td>\n",
       "      <td>1.016016</td>\n",
       "    </tr>\n",
       "    <tr>\n",
       "      <th>...</th>\n",
       "      <td>...</td>\n",
       "      <td>...</td>\n",
       "      <td>...</td>\n",
       "      <td>...</td>\n",
       "      <td>...</td>\n",
       "      <td>...</td>\n",
       "      <td>...</td>\n",
       "      <td>...</td>\n",
       "      <td>...</td>\n",
       "      <td>...</td>\n",
       "      <td>...</td>\n",
       "      <td>...</td>\n",
       "      <td>...</td>\n",
       "      <td>...</td>\n",
       "      <td>...</td>\n",
       "      <td>...</td>\n",
       "      <td>...</td>\n",
       "      <td>...</td>\n",
       "      <td>...</td>\n",
       "      <td>...</td>\n",
       "      <td>...</td>\n",
       "    </tr>\n",
       "    <tr>\n",
       "      <th>7556</th>\n",
       "      <td>8.695065</td>\n",
       "      <td>20.570786</td>\n",
       "      <td>27.330688</td>\n",
       "      <td>13.737674</td>\n",
       "      <td>3.492955</td>\n",
       "      <td>8.060930</td>\n",
       "      <td>5.456987</td>\n",
       "      <td>3.196034</td>\n",
       "      <td>4.292304</td>\n",
       "      <td>6.456785</td>\n",
       "      <td>...</td>\n",
       "      <td>3.403709</td>\n",
       "      <td>5.846366</td>\n",
       "      <td>34.081672</td>\n",
       "      <td>10.563883</td>\n",
       "      <td>4.504994</td>\n",
       "      <td>13.022404</td>\n",
       "      <td>8.677391</td>\n",
       "      <td>16.236612</td>\n",
       "      <td>10.084493</td>\n",
       "      <td>10.873135</td>\n",
       "    </tr>\n",
       "    <tr>\n",
       "      <th>7557</th>\n",
       "      <td>8.610774</td>\n",
       "      <td>20.891417</td>\n",
       "      <td>27.532929</td>\n",
       "      <td>13.821237</td>\n",
       "      <td>3.484100</td>\n",
       "      <td>7.972492</td>\n",
       "      <td>5.418576</td>\n",
       "      <td>3.188906</td>\n",
       "      <td>4.311511</td>\n",
       "      <td>6.429782</td>\n",
       "      <td>...</td>\n",
       "      <td>3.442584</td>\n",
       "      <td>5.808677</td>\n",
       "      <td>34.118155</td>\n",
       "      <td>10.540055</td>\n",
       "      <td>4.560761</td>\n",
       "      <td>12.879726</td>\n",
       "      <td>8.592638</td>\n",
       "      <td>16.285038</td>\n",
       "      <td>10.077251</td>\n",
       "      <td>10.871775</td>\n",
       "    </tr>\n",
       "    <tr>\n",
       "      <th>7558</th>\n",
       "      <td>8.810852</td>\n",
       "      <td>20.824513</td>\n",
       "      <td>27.717020</td>\n",
       "      <td>13.677060</td>\n",
       "      <td>3.516245</td>\n",
       "      <td>7.911869</td>\n",
       "      <td>5.377164</td>\n",
       "      <td>3.160810</td>\n",
       "      <td>4.261278</td>\n",
       "      <td>6.443753</td>\n",
       "      <td>...</td>\n",
       "      <td>3.478886</td>\n",
       "      <td>5.878437</td>\n",
       "      <td>33.966392</td>\n",
       "      <td>10.553144</td>\n",
       "      <td>4.561114</td>\n",
       "      <td>12.918279</td>\n",
       "      <td>8.424017</td>\n",
       "      <td>16.208082</td>\n",
       "      <td>10.089684</td>\n",
       "      <td>10.984443</td>\n",
       "    </tr>\n",
       "    <tr>\n",
       "      <th>7559</th>\n",
       "      <td>8.709242</td>\n",
       "      <td>20.658528</td>\n",
       "      <td>27.483025</td>\n",
       "      <td>13.878638</td>\n",
       "      <td>3.537184</td>\n",
       "      <td>7.850328</td>\n",
       "      <td>5.341764</td>\n",
       "      <td>3.115280</td>\n",
       "      <td>4.294276</td>\n",
       "      <td>6.464791</td>\n",
       "      <td>...</td>\n",
       "      <td>3.430956</td>\n",
       "      <td>5.814121</td>\n",
       "      <td>33.479463</td>\n",
       "      <td>10.390664</td>\n",
       "      <td>4.542289</td>\n",
       "      <td>13.077366</td>\n",
       "      <td>8.423520</td>\n",
       "      <td>15.972205</td>\n",
       "      <td>9.929020</td>\n",
       "      <td>11.093996</td>\n",
       "    </tr>\n",
       "    <tr>\n",
       "      <th>7560</th>\n",
       "      <td>8.908375</td>\n",
       "      <td>20.600101</td>\n",
       "      <td>27.651758</td>\n",
       "      <td>13.845795</td>\n",
       "      <td>3.511044</td>\n",
       "      <td>7.875190</td>\n",
       "      <td>5.312973</td>\n",
       "      <td>3.070156</td>\n",
       "      <td>4.276093</td>\n",
       "      <td>6.481160</td>\n",
       "      <td>...</td>\n",
       "      <td>3.415286</td>\n",
       "      <td>5.815894</td>\n",
       "      <td>33.106649</td>\n",
       "      <td>10.473104</td>\n",
       "      <td>4.539324</td>\n",
       "      <td>12.910532</td>\n",
       "      <td>8.377167</td>\n",
       "      <td>16.076504</td>\n",
       "      <td>9.920018</td>\n",
       "      <td>11.202808</td>\n",
       "    </tr>\n",
       "  </tbody>\n",
       "</table>\n",
       "<p>7561 rows × 500 columns</p>\n",
       "</div>"
      ],
      "text/plain": [
       "           0          1          2          3         4         5         6    \\\n",
       "0     1.000000   1.000000   1.000000   1.000000  1.000000  1.000000  1.000000   \n",
       "1     0.997740   1.008829   1.005804   0.996757  1.005180  1.005212  0.981789   \n",
       "2     0.991114   1.017405   1.006224   0.991736  0.996038  0.990748  0.983286   \n",
       "3     0.986075   1.019482   1.015417   0.994820  0.999332  0.981618  0.971514   \n",
       "4     0.958053   1.009180   1.012119   0.996343  0.983166  0.980202  0.959325   \n",
       "...        ...        ...        ...        ...       ...       ...       ...   \n",
       "7556  8.695065  20.570786  27.330688  13.737674  3.492955  8.060930  5.456987   \n",
       "7557  8.610774  20.891417  27.532929  13.821237  3.484100  7.972492  5.418576   \n",
       "7558  8.810852  20.824513  27.717020  13.677060  3.516245  7.911869  5.377164   \n",
       "7559  8.709242  20.658528  27.483025  13.878638  3.537184  7.850328  5.341764   \n",
       "7560  8.908375  20.600101  27.651758  13.845795  3.511044  7.875190  5.312973   \n",
       "\n",
       "           7         8         9    ...       490       491        492  \\\n",
       "0     1.000000  1.000000  1.000000  ...  1.000000  1.000000   1.000000   \n",
       "1     1.007447  1.000484  0.994195  ...  1.001656  1.000539   0.988683   \n",
       "2     1.012380  0.987227  0.991234  ...  0.993698  1.001632   0.984909   \n",
       "3     1.019818  0.988737  0.993970  ...  0.991558  1.013691   0.995517   \n",
       "4     1.023426  0.995959  0.997034  ...  0.982474  1.013885   0.993774   \n",
       "...        ...       ...       ...  ...       ...       ...        ...   \n",
       "7556  3.196034  4.292304  6.456785  ...  3.403709  5.846366  34.081672   \n",
       "7557  3.188906  4.311511  6.429782  ...  3.442584  5.808677  34.118155   \n",
       "7558  3.160810  4.261278  6.443753  ...  3.478886  5.878437  33.966392   \n",
       "7559  3.115280  4.294276  6.464791  ...  3.430956  5.814121  33.479463   \n",
       "7560  3.070156  4.276093  6.481160  ...  3.415286  5.815894  33.106649   \n",
       "\n",
       "            493       494        495       496        497        498  \\\n",
       "0      1.000000  1.000000   1.000000  1.000000   1.000000   1.000000   \n",
       "1      0.996865  0.995940   0.996143  1.001371   0.996137   0.996617   \n",
       "2      0.998086  0.993963   0.987765  1.003015   0.998936   1.014479   \n",
       "3      0.975032  0.991432   0.983332  1.015501   0.981896   1.017036   \n",
       "4      0.971102  0.991258   0.969519  1.021644   0.989793   1.011998   \n",
       "...         ...       ...        ...       ...        ...        ...   \n",
       "7556  10.563883  4.504994  13.022404  8.677391  16.236612  10.084493   \n",
       "7557  10.540055  4.560761  12.879726  8.592638  16.285038  10.077251   \n",
       "7558  10.553144  4.561114  12.918279  8.424017  16.208082  10.089684   \n",
       "7559  10.390664  4.542289  13.077366  8.423520  15.972205   9.929020   \n",
       "7560  10.473104  4.539324  12.910532  8.377167  16.076504   9.920018   \n",
       "\n",
       "            499  \n",
       "0      1.000000  \n",
       "1      1.010000  \n",
       "2      1.014344  \n",
       "3      1.015230  \n",
       "4      1.016016  \n",
       "...         ...  \n",
       "7556  10.873135  \n",
       "7557  10.871775  \n",
       "7558  10.984443  \n",
       "7559  11.093996  \n",
       "7560  11.202808  \n",
       "\n",
       "[7561 rows x 500 columns]"
      ]
     },
     "execution_count": 60,
     "metadata": {},
     "output_type": "execute_result"
    }
   ],
   "source": [
    "# Run the Monte Carlo simulation to forecast 30 years cumulative returns\n",
    "\n",
    "MC_thirtyyear_cumulative.calc_cumulative_return()"
   ]
  },
  {
   "cell_type": "markdown",
   "id": "cd73ff39-9a74-4f2b-be45-18f864b4c4bd",
   "metadata": {
    "tags": []
   },
   "source": [
    "#### Step 3: Plot the probability distribution of the Monte Carlo simulation."
   ]
  },
  {
   "cell_type": "code",
   "execution_count": 61,
   "id": "19de9299-a2ea-4ab0-b6a3-98841832cf8a",
   "metadata": {},
   "outputs": [
    {
     "data": {
      "image/png": "[encoded data removed]",
      "text/plain": [
       "<Figure size 432x288 with 1 Axes>"
      ]
     },
     "metadata": {
      "needs_background": "light"
     },
     "output_type": "display_data"
    }
   ],
   "source": [
    "# Visualize the 30-year Monte Carlo simulation by creating an\n",
    "# overlay line plot\n",
    "# YOUR CODE HERE\n",
    "\n",
    "MC_thirty_line_plot = MC_thirtyyear_cumulative.plot_simulation()"
   ]
  },
  {
   "cell_type": "code",
   "execution_count": 62,
   "id": "bf99b9e3-b49e-4e1f-8a0c-f32fb626c63d",
   "metadata": {},
   "outputs": [
    {
     "data": {
      "image/png": "[encoded data removed]",
      "text/plain": [
       "<Figure size 432x288 with 1 Axes>"
      ]
     },
     "metadata": {
      "needs_background": "light"
     },
     "output_type": "display_data"
    }
   ],
   "source": [
    "# Visualize the probability distribution of the 30-year Monte Carlo simulation \n",
    "# by plotting a histogram\n",
    "MC_sim_distribution_plot = MC_thirtyyear_cumulative.plot_distribution()"
   ]
  },
  {
   "cell_type": "markdown",
   "id": "c9fd74e8-f3d3-471a-9aef-6701fbe544f0",
   "metadata": {
    "tags": []
   },
   "source": [
    "#### Step 4: Generate the summary statistics for the Monte Carlo simulation."
   ]
  },
  {
   "cell_type": "code",
   "execution_count": 63,
   "id": "9417b6b8-7ca1-428a-9d54-c1b0041aa74e",
   "metadata": {},
   "outputs": [],
   "source": [
    "# Generate summary statistics from the 30-year Monte Carlo simulation results\n",
    "# Save the results as a variable\n",
    "MC_summary_statistics = MC_thirtyyear_cumulative.summarize_cumulative_return()\n",
    "\n"
   ]
  },
  {
   "cell_type": "code",
   "execution_count": 64,
   "id": "4fcc9900-a67a-43f4-bfa2-415934346a21",
   "metadata": {},
   "outputs": [
    {
     "name": "stdout",
     "output_type": "stream",
     "text": [
      "count           500.000000\n",
      "mean             12.893372\n",
      "std              10.348422\n",
      "min               0.995892\n",
      "25%               5.942810\n",
      "50%               9.516217\n",
      "75%              16.508237\n",
      "max              69.907844\n",
      "95% CI Lower      2.234869\n",
      "95% CI Upper     40.032716\n",
      "Name: 7560, dtype: float64\n"
     ]
    }
   ],
   "source": [
    "\n",
    "# Review the 30-year Monte Carlo summary statistics\n",
    "print(MC_summary_statistics)"
   ]
  },
  {
   "cell_type": "markdown",
   "id": "16eabd0c-736e-47f6-a81b-038e5275b7e6",
   "metadata": {},
   "source": [
    "### Analyze the Retirement Portfolio Forecasts"
   ]
  },
  {
   "cell_type": "code",
   "execution_count": 65,
   "id": "dd8856f2-74cb-407d-9b13-91a55965b3d2",
   "metadata": {},
   "outputs": [
    {
     "data": {
      "text/plain": [
       "60689.5"
      ]
     },
     "execution_count": 65,
     "metadata": {},
     "output_type": "execute_result"
    }
   ],
   "source": [
    "# Print the current balance of the stock and bond portion of the members portfolio\n",
    "total_stocks_bonds"
   ]
  },
  {
   "cell_type": "code",
   "execution_count": 66,
   "id": "9fca25ce-09e1-447e-80f9-b61d10cfee50",
   "metadata": {},
   "outputs": [
    {
     "name": "stdout",
     "output_type": "stream",
     "text": [
      "There is a 95% chance that if you invest your total stock and bonds portfolio in the next thirty years your investment will fall between  135633.09 and $ 2429565.51\n"
     ]
    }
   ],
   "source": [
    "ci_lower_thirty_cumulative_return = MC_summary_statistics[8] * total_stocks_bonds\n",
    "ci_upper_thirty_cumulative_return = MC_summary_statistics[9] * total_stocks_bonds\n",
    "\n",
    "# Print the result of your calculations\n",
    "print(f'There is a 95% chance that if you invest your total stock and bonds portfolio in the next thirty years your investment will fall between {ci_lower_thirty_cumulative_return: .2f} and ${ci_upper_thirty_cumulative_return: .2f}')"
   ]
  },
  {
   "cell_type": "markdown",
   "id": "5b8c47d3-d7ef-4b8d-b88a-f8885eb64bc2",
   "metadata": {},
   "source": [
    "### Forecast Cumulative Returns in 10 Years\n",
    "\n",
    "The CTO of the credit union is impressed with your work on these planning tools but wonders if 30 years is a long time to wait until retirement. So, your next task is to adjust the retirement portfolio and run a new Monte Carlo simulation to find out if the changes will allow members to retire earlier.\n",
    "\n",
    "For this new Monte Carlo simulation, do the following: \n",
    "\n",
    "- Forecast the cumulative returns for 10 years from now. Because of the shortened investment horizon (30 years to 10 years), the portfolio needs to invest more heavily in the riskier asset&mdash;that is, stock&mdash;to help accumulate wealth for retirement. \n",
    "\n",
    "- Adjust the weights of the retirement portfolio so that the composition for the Monte Carlo simulation consists of 20% bonds and 80% stocks. \n",
    "\n",
    "- Run the simulation over 500 samples, and use the same data that the API call to Alpaca generated.\n",
    "\n",
    "- Based on the new Monte Carlo simulation, answer the following questions in your Jupyter notebook:\n",
    "\n",
    "    - Using the current value of only the stock and bond portion of the member's portfolio and the summary statistics that you generated from the new Monte Carlo simulation, what are the lower and upper bounds for the expected value of the portfolio (with the new weights) with a 95% confidence interval?\n",
    "\n",
    "    - Will weighting the portfolio more heavily toward stocks allow the credit union members to retire after only 10 years?\n"
   ]
  },
  {
   "cell_type": "code",
   "execution_count": 67,
   "id": "fb6e15f3-f322-4329-b38c-43a79ac66c85",
   "metadata": {
    "tags": []
   },
   "outputs": [
    {
     "data": {
      "text/html": [
       "<div>\n",
       "<style scoped>\n",
       "    .dataframe tbody tr th:only-of-type {\n",
       "        vertical-align: middle;\n",
       "    }\n",
       "\n",
       "    .dataframe tbody tr th {\n",
       "        vertical-align: top;\n",
       "    }\n",
       "\n",
       "    .dataframe thead tr th {\n",
       "        text-align: left;\n",
       "    }\n",
       "\n",
       "    .dataframe thead tr:last-of-type th {\n",
       "        text-align: right;\n",
       "    }\n",
       "</style>\n",
       "<table border=\"1\" class=\"dataframe\">\n",
       "  <thead>\n",
       "    <tr>\n",
       "      <th></th>\n",
       "      <th colspan=\"6\" halign=\"left\">AGG</th>\n",
       "      <th colspan=\"6\" halign=\"left\">SPY</th>\n",
       "    </tr>\n",
       "    <tr>\n",
       "      <th></th>\n",
       "      <th>open</th>\n",
       "      <th>high</th>\n",
       "      <th>low</th>\n",
       "      <th>close</th>\n",
       "      <th>volume</th>\n",
       "      <th>daily_return</th>\n",
       "      <th>open</th>\n",
       "      <th>high</th>\n",
       "      <th>low</th>\n",
       "      <th>close</th>\n",
       "      <th>volume</th>\n",
       "      <th>daily_return</th>\n",
       "    </tr>\n",
       "    <tr>\n",
       "      <th>time</th>\n",
       "      <th></th>\n",
       "      <th></th>\n",
       "      <th></th>\n",
       "      <th></th>\n",
       "      <th></th>\n",
       "      <th></th>\n",
       "      <th></th>\n",
       "      <th></th>\n",
       "      <th></th>\n",
       "      <th></th>\n",
       "      <th></th>\n",
       "      <th></th>\n",
       "    </tr>\n",
       "  </thead>\n",
       "  <tbody>\n",
       "    <tr>\n",
       "      <th>2017-08-07 00:00:00-04:00</th>\n",
       "      <td>109.69</td>\n",
       "      <td>109.72</td>\n",
       "      <td>109.6066</td>\n",
       "      <td>109.6850</td>\n",
       "      <td>1425317.0</td>\n",
       "      <td>NaN</td>\n",
       "      <td>247.49</td>\n",
       "      <td>247.87</td>\n",
       "      <td>247.37</td>\n",
       "      <td>247.850</td>\n",
       "      <td>20901988</td>\n",
       "      <td>NaN</td>\n",
       "    </tr>\n",
       "    <tr>\n",
       "      <th>2017-08-08 00:00:00-04:00</th>\n",
       "      <td>109.67</td>\n",
       "      <td>109.69</td>\n",
       "      <td>109.5000</td>\n",
       "      <td>109.5810</td>\n",
       "      <td>1998999.0</td>\n",
       "      <td>-0.000948</td>\n",
       "      <td>247.51</td>\n",
       "      <td>248.91</td>\n",
       "      <td>246.83</td>\n",
       "      <td>247.291</td>\n",
       "      <td>44619069</td>\n",
       "      <td>-0.002255</td>\n",
       "    </tr>\n",
       "    <tr>\n",
       "      <th>2017-08-09 00:00:00-04:00</th>\n",
       "      <td>109.87</td>\n",
       "      <td>109.87</td>\n",
       "      <td>109.6600</td>\n",
       "      <td>109.6700</td>\n",
       "      <td>2069028.0</td>\n",
       "      <td>0.000812</td>\n",
       "      <td>246.47</td>\n",
       "      <td>247.31</td>\n",
       "      <td>246.06</td>\n",
       "      <td>247.230</td>\n",
       "      <td>48543032</td>\n",
       "      <td>-0.000247</td>\n",
       "    </tr>\n",
       "    <tr>\n",
       "      <th>2017-08-10 00:00:00-04:00</th>\n",
       "      <td>109.70</td>\n",
       "      <td>109.85</td>\n",
       "      <td>109.6700</td>\n",
       "      <td>109.8053</td>\n",
       "      <td>1691677.0</td>\n",
       "      <td>0.001234</td>\n",
       "      <td>246.28</td>\n",
       "      <td>246.44</td>\n",
       "      <td>243.70</td>\n",
       "      <td>243.790</td>\n",
       "      <td>87857827</td>\n",
       "      <td>-0.013914</td>\n",
       "    </tr>\n",
       "    <tr>\n",
       "      <th>2017-08-11 00:00:00-04:00</th>\n",
       "      <td>109.75</td>\n",
       "      <td>109.94</td>\n",
       "      <td>109.6800</td>\n",
       "      <td>109.8850</td>\n",
       "      <td>1613467.0</td>\n",
       "      <td>0.000726</td>\n",
       "      <td>244.02</td>\n",
       "      <td>244.80</td>\n",
       "      <td>243.75</td>\n",
       "      <td>244.110</td>\n",
       "      <td>56404847</td>\n",
       "      <td>0.001313</td>\n",
       "    </tr>\n",
       "  </tbody>\n",
       "</table>\n",
       "</div>"
      ],
      "text/plain": [
       "                              AGG                                         \\\n",
       "                             open    high       low     close     volume   \n",
       "time                                                                       \n",
       "2017-08-07 00:00:00-04:00  109.69  109.72  109.6066  109.6850  1425317.0   \n",
       "2017-08-08 00:00:00-04:00  109.67  109.69  109.5000  109.5810  1998999.0   \n",
       "2017-08-09 00:00:00-04:00  109.87  109.87  109.6600  109.6700  2069028.0   \n",
       "2017-08-10 00:00:00-04:00  109.70  109.85  109.6700  109.8053  1691677.0   \n",
       "2017-08-11 00:00:00-04:00  109.75  109.94  109.6800  109.8850  1613467.0   \n",
       "\n",
       "                                           SPY                           \\\n",
       "                          daily_return    open    high     low    close   \n",
       "time                                                                      \n",
       "2017-08-07 00:00:00-04:00          NaN  247.49  247.87  247.37  247.850   \n",
       "2017-08-08 00:00:00-04:00    -0.000948  247.51  248.91  246.83  247.291   \n",
       "2017-08-09 00:00:00-04:00     0.000812  246.47  247.31  246.06  247.230   \n",
       "2017-08-10 00:00:00-04:00     0.001234  246.28  246.44  243.70  243.790   \n",
       "2017-08-11 00:00:00-04:00     0.000726  244.02  244.80  243.75  244.110   \n",
       "\n",
       "                                                  \n",
       "                             volume daily_return  \n",
       "time                                              \n",
       "2017-08-07 00:00:00-04:00  20901988          NaN  \n",
       "2017-08-08 00:00:00-04:00  44619069    -0.002255  \n",
       "2017-08-09 00:00:00-04:00  48543032    -0.000247  \n",
       "2017-08-10 00:00:00-04:00  87857827    -0.013914  \n",
       "2017-08-11 00:00:00-04:00  56404847     0.001313  "
      ]
     },
     "execution_count": 67,
     "metadata": {},
     "output_type": "execute_result"
    }
   ],
   "source": [
    "# Configure a Monte Carlo simulation to forecast 10 years cumulative returns\n",
    "# The weights should be split 20% to AGG and 80% to SPY.\n",
    "# Run 500 samples.\n",
    "MC_tenyear = MCSimulation(\n",
    "    portfolio_data = stocks_bonds_df,\n",
    "    weights = [.20,.80],\n",
    "    num_simulation = 500,\n",
    "    num_trading_days = 252 * 10\n",
    ")\n",
    "\n",
    "# Review the simulation input data\n",
    "MC_tenyear.portfolio_data.head()"
   ]
  },
  {
   "cell_type": "code",
   "execution_count": 68,
   "id": "5a7cca60-d451-4d43-a3e5-a9ec3915238e",
   "metadata": {},
   "outputs": [
    {
     "name": "stdout",
     "output_type": "stream",
     "text": [
      "Running Monte Carlo simulation number 0.\n",
      "Running Monte Carlo simulation number 10.\n",
      "Running Monte Carlo simulation number 20.\n",
      "Running Monte Carlo simulation number 30.\n",
      "Running Monte Carlo simulation number 40.\n",
      "Running Monte Carlo simulation number 50.\n",
      "Running Monte Carlo simulation number 60.\n",
      "Running Monte Carlo simulation number 70.\n",
      "Running Monte Carlo simulation number 80.\n",
      "Running Monte Carlo simulation number 90.\n",
      "Running Monte Carlo simulation number 100.\n",
      "Running Monte Carlo simulation number 110.\n",
      "Running Monte Carlo simulation number 120.\n",
      "Running Monte Carlo simulation number 130.\n",
      "Running Monte Carlo simulation number 140.\n",
      "Running Monte Carlo simulation number 150.\n",
      "Running Monte Carlo simulation number 160.\n",
      "Running Monte Carlo simulation number 170.\n",
      "Running Monte Carlo simulation number 180.\n",
      "Running Monte Carlo simulation number 190.\n",
      "Running Monte Carlo simulation number 200.\n",
      "Running Monte Carlo simulation number 210.\n",
      "Running Monte Carlo simulation number 220.\n",
      "Running Monte Carlo simulation number 230.\n",
      "Running Monte Carlo simulation number 240.\n",
      "Running Monte Carlo simulation number 250.\n",
      "Running Monte Carlo simulation number 260.\n",
      "Running Monte Carlo simulation number 270.\n",
      "Running Monte Carlo simulation number 280.\n",
      "Running Monte Carlo simulation number 290.\n",
      "Running Monte Carlo simulation number 300.\n",
      "Running Monte Carlo simulation number 310.\n",
      "Running Monte Carlo simulation number 320.\n",
      "Running Monte Carlo simulation number 330.\n",
      "Running Monte Carlo simulation number 340.\n",
      "Running Monte Carlo simulation number 350.\n",
      "Running Monte Carlo simulation number 360.\n",
      "Running Monte Carlo simulation number 370.\n",
      "Running Monte Carlo simulation number 380.\n",
      "Running Monte Carlo simulation number 390.\n",
      "Running Monte Carlo simulation number 400.\n",
      "Running Monte Carlo simulation number 410.\n",
      "Running Monte Carlo simulation number 420.\n",
      "Running Monte Carlo simulation number 430.\n",
      "Running Monte Carlo simulation number 440.\n",
      "Running Monte Carlo simulation number 450.\n",
      "Running Monte Carlo simulation number 460.\n",
      "Running Monte Carlo simulation number 470.\n",
      "Running Monte Carlo simulation number 480.\n",
      "Running Monte Carlo simulation number 490.\n"
     ]
    },
    {
     "data": {
      "text/html": [
       "<div>\n",
       "<style scoped>\n",
       "    .dataframe tbody tr th:only-of-type {\n",
       "        vertical-align: middle;\n",
       "    }\n",
       "\n",
       "    .dataframe tbody tr th {\n",
       "        vertical-align: top;\n",
       "    }\n",
       "\n",
       "    .dataframe thead th {\n",
       "        text-align: right;\n",
       "    }\n",
       "</style>\n",
       "<table border=\"1\" class=\"dataframe\">\n",
       "  <thead>\n",
       "    <tr style=\"text-align: right;\">\n",
       "      <th></th>\n",
       "      <th>0</th>\n",
       "      <th>1</th>\n",
       "      <th>2</th>\n",
       "      <th>3</th>\n",
       "      <th>4</th>\n",
       "      <th>5</th>\n",
       "      <th>6</th>\n",
       "      <th>7</th>\n",
       "      <th>8</th>\n",
       "      <th>9</th>\n",
       "      <th>...</th>\n",
       "      <th>490</th>\n",
       "      <th>491</th>\n",
       "      <th>492</th>\n",
       "      <th>493</th>\n",
       "      <th>494</th>\n",
       "      <th>495</th>\n",
       "      <th>496</th>\n",
       "      <th>497</th>\n",
       "      <th>498</th>\n",
       "      <th>499</th>\n",
       "    </tr>\n",
       "  </thead>\n",
       "  <tbody>\n",
       "    <tr>\n",
       "      <th>0</th>\n",
       "      <td>1.000000</td>\n",
       "      <td>1.000000</td>\n",
       "      <td>1.000000</td>\n",
       "      <td>1.000000</td>\n",
       "      <td>1.000000</td>\n",
       "      <td>1.000000</td>\n",
       "      <td>1.000000</td>\n",
       "      <td>1.000000</td>\n",
       "      <td>1.000000</td>\n",
       "      <td>1.000000</td>\n",
       "      <td>...</td>\n",
       "      <td>1.000000</td>\n",
       "      <td>1.000000</td>\n",
       "      <td>1.000000</td>\n",
       "      <td>1.000000</td>\n",
       "      <td>1.000000</td>\n",
       "      <td>1.000000</td>\n",
       "      <td>1.000000</td>\n",
       "      <td>1.000000</td>\n",
       "      <td>1.000000</td>\n",
       "      <td>1.000000</td>\n",
       "    </tr>\n",
       "    <tr>\n",
       "      <th>1</th>\n",
       "      <td>0.985829</td>\n",
       "      <td>1.003673</td>\n",
       "      <td>1.009337</td>\n",
       "      <td>0.995261</td>\n",
       "      <td>0.999303</td>\n",
       "      <td>0.997219</td>\n",
       "      <td>0.996605</td>\n",
       "      <td>0.987528</td>\n",
       "      <td>0.987334</td>\n",
       "      <td>1.012052</td>\n",
       "      <td>...</td>\n",
       "      <td>1.021922</td>\n",
       "      <td>1.000572</td>\n",
       "      <td>1.014728</td>\n",
       "      <td>1.010755</td>\n",
       "      <td>0.990067</td>\n",
       "      <td>1.001826</td>\n",
       "      <td>0.999916</td>\n",
       "      <td>0.992846</td>\n",
       "      <td>0.992960</td>\n",
       "      <td>1.002064</td>\n",
       "    </tr>\n",
       "    <tr>\n",
       "      <th>2</th>\n",
       "      <td>0.985740</td>\n",
       "      <td>1.001929</td>\n",
       "      <td>0.986619</td>\n",
       "      <td>0.987825</td>\n",
       "      <td>1.000554</td>\n",
       "      <td>0.989797</td>\n",
       "      <td>1.014401</td>\n",
       "      <td>0.981376</td>\n",
       "      <td>1.006149</td>\n",
       "      <td>1.005392</td>\n",
       "      <td>...</td>\n",
       "      <td>1.020299</td>\n",
       "      <td>0.987095</td>\n",
       "      <td>1.014457</td>\n",
       "      <td>1.021046</td>\n",
       "      <td>0.972285</td>\n",
       "      <td>1.000374</td>\n",
       "      <td>0.992352</td>\n",
       "      <td>0.982226</td>\n",
       "      <td>1.004367</td>\n",
       "      <td>0.984335</td>\n",
       "    </tr>\n",
       "    <tr>\n",
       "      <th>3</th>\n",
       "      <td>0.998493</td>\n",
       "      <td>1.028328</td>\n",
       "      <td>0.961601</td>\n",
       "      <td>0.996266</td>\n",
       "      <td>0.997340</td>\n",
       "      <td>0.975761</td>\n",
       "      <td>1.011926</td>\n",
       "      <td>0.980580</td>\n",
       "      <td>1.030876</td>\n",
       "      <td>1.006878</td>\n",
       "      <td>...</td>\n",
       "      <td>1.026847</td>\n",
       "      <td>0.982281</td>\n",
       "      <td>1.014099</td>\n",
       "      <td>1.007234</td>\n",
       "      <td>0.968771</td>\n",
       "      <td>1.001223</td>\n",
       "      <td>1.004568</td>\n",
       "      <td>0.978262</td>\n",
       "      <td>0.998711</td>\n",
       "      <td>0.986436</td>\n",
       "    </tr>\n",
       "    <tr>\n",
       "      <th>4</th>\n",
       "      <td>0.999591</td>\n",
       "      <td>1.019581</td>\n",
       "      <td>0.948439</td>\n",
       "      <td>1.006097</td>\n",
       "      <td>0.982239</td>\n",
       "      <td>0.968740</td>\n",
       "      <td>1.026403</td>\n",
       "      <td>0.987355</td>\n",
       "      <td>1.044747</td>\n",
       "      <td>1.007628</td>\n",
       "      <td>...</td>\n",
       "      <td>1.032170</td>\n",
       "      <td>0.973394</td>\n",
       "      <td>0.985679</td>\n",
       "      <td>1.008747</td>\n",
       "      <td>0.967716</td>\n",
       "      <td>1.001327</td>\n",
       "      <td>0.985671</td>\n",
       "      <td>0.978439</td>\n",
       "      <td>0.986994</td>\n",
       "      <td>0.992473</td>\n",
       "    </tr>\n",
       "    <tr>\n",
       "      <th>...</th>\n",
       "      <td>...</td>\n",
       "      <td>...</td>\n",
       "      <td>...</td>\n",
       "      <td>...</td>\n",
       "      <td>...</td>\n",
       "      <td>...</td>\n",
       "      <td>...</td>\n",
       "      <td>...</td>\n",
       "      <td>...</td>\n",
       "      <td>...</td>\n",
       "      <td>...</td>\n",
       "      <td>...</td>\n",
       "      <td>...</td>\n",
       "      <td>...</td>\n",
       "      <td>...</td>\n",
       "      <td>...</td>\n",
       "      <td>...</td>\n",
       "      <td>...</td>\n",
       "      <td>...</td>\n",
       "      <td>...</td>\n",
       "      <td>...</td>\n",
       "    </tr>\n",
       "    <tr>\n",
       "      <th>2516</th>\n",
       "      <td>3.033161</td>\n",
       "      <td>1.896310</td>\n",
       "      <td>2.694575</td>\n",
       "      <td>2.068055</td>\n",
       "      <td>1.495009</td>\n",
       "      <td>1.927511</td>\n",
       "      <td>2.856069</td>\n",
       "      <td>2.266680</td>\n",
       "      <td>5.283704</td>\n",
       "      <td>2.770932</td>\n",
       "      <td>...</td>\n",
       "      <td>2.523682</td>\n",
       "      <td>1.812968</td>\n",
       "      <td>4.357857</td>\n",
       "      <td>2.105988</td>\n",
       "      <td>3.672945</td>\n",
       "      <td>2.025828</td>\n",
       "      <td>1.489622</td>\n",
       "      <td>1.621974</td>\n",
       "      <td>2.287417</td>\n",
       "      <td>1.033568</td>\n",
       "    </tr>\n",
       "    <tr>\n",
       "      <th>2517</th>\n",
       "      <td>3.078344</td>\n",
       "      <td>1.874198</td>\n",
       "      <td>2.652683</td>\n",
       "      <td>2.018826</td>\n",
       "      <td>1.508617</td>\n",
       "      <td>1.921159</td>\n",
       "      <td>2.829874</td>\n",
       "      <td>2.276998</td>\n",
       "      <td>5.346522</td>\n",
       "      <td>2.758842</td>\n",
       "      <td>...</td>\n",
       "      <td>2.532958</td>\n",
       "      <td>1.832740</td>\n",
       "      <td>4.364604</td>\n",
       "      <td>2.071361</td>\n",
       "      <td>3.592870</td>\n",
       "      <td>2.020644</td>\n",
       "      <td>1.486817</td>\n",
       "      <td>1.629903</td>\n",
       "      <td>2.287892</td>\n",
       "      <td>1.029258</td>\n",
       "    </tr>\n",
       "    <tr>\n",
       "      <th>2518</th>\n",
       "      <td>3.078894</td>\n",
       "      <td>1.887151</td>\n",
       "      <td>2.640062</td>\n",
       "      <td>1.977172</td>\n",
       "      <td>1.545454</td>\n",
       "      <td>1.923173</td>\n",
       "      <td>2.863013</td>\n",
       "      <td>2.286337</td>\n",
       "      <td>5.239356</td>\n",
       "      <td>2.734086</td>\n",
       "      <td>...</td>\n",
       "      <td>2.530330</td>\n",
       "      <td>1.865364</td>\n",
       "      <td>4.377858</td>\n",
       "      <td>2.083173</td>\n",
       "      <td>3.537191</td>\n",
       "      <td>2.021053</td>\n",
       "      <td>1.486685</td>\n",
       "      <td>1.631383</td>\n",
       "      <td>2.270455</td>\n",
       "      <td>0.998122</td>\n",
       "    </tr>\n",
       "    <tr>\n",
       "      <th>2519</th>\n",
       "      <td>3.088905</td>\n",
       "      <td>1.910529</td>\n",
       "      <td>2.648004</td>\n",
       "      <td>1.942957</td>\n",
       "      <td>1.528522</td>\n",
       "      <td>1.920754</td>\n",
       "      <td>2.893230</td>\n",
       "      <td>2.255215</td>\n",
       "      <td>5.268056</td>\n",
       "      <td>2.744378</td>\n",
       "      <td>...</td>\n",
       "      <td>2.489822</td>\n",
       "      <td>1.854257</td>\n",
       "      <td>4.331742</td>\n",
       "      <td>2.063620</td>\n",
       "      <td>3.563072</td>\n",
       "      <td>1.996068</td>\n",
       "      <td>1.487308</td>\n",
       "      <td>1.660969</td>\n",
       "      <td>2.283333</td>\n",
       "      <td>0.978501</td>\n",
       "    </tr>\n",
       "    <tr>\n",
       "      <th>2520</th>\n",
       "      <td>3.109841</td>\n",
       "      <td>1.884032</td>\n",
       "      <td>2.657045</td>\n",
       "      <td>1.927886</td>\n",
       "      <td>1.535889</td>\n",
       "      <td>1.912916</td>\n",
       "      <td>2.899391</td>\n",
       "      <td>2.244813</td>\n",
       "      <td>5.328822</td>\n",
       "      <td>2.774196</td>\n",
       "      <td>...</td>\n",
       "      <td>2.486707</td>\n",
       "      <td>1.853187</td>\n",
       "      <td>4.300766</td>\n",
       "      <td>2.043842</td>\n",
       "      <td>3.596265</td>\n",
       "      <td>1.986746</td>\n",
       "      <td>1.494309</td>\n",
       "      <td>1.666599</td>\n",
       "      <td>2.305180</td>\n",
       "      <td>0.982123</td>\n",
       "    </tr>\n",
       "  </tbody>\n",
       "</table>\n",
       "<p>2521 rows × 500 columns</p>\n",
       "</div>"
      ],
      "text/plain": [
       "           0         1         2         3         4         5         6    \\\n",
       "0     1.000000  1.000000  1.000000  1.000000  1.000000  1.000000  1.000000   \n",
       "1     0.985829  1.003673  1.009337  0.995261  0.999303  0.997219  0.996605   \n",
       "2     0.985740  1.001929  0.986619  0.987825  1.000554  0.989797  1.014401   \n",
       "3     0.998493  1.028328  0.961601  0.996266  0.997340  0.975761  1.011926   \n",
       "4     0.999591  1.019581  0.948439  1.006097  0.982239  0.968740  1.026403   \n",
       "...        ...       ...       ...       ...       ...       ...       ...   \n",
       "2516  3.033161  1.896310  2.694575  2.068055  1.495009  1.927511  2.856069   \n",
       "2517  3.078344  1.874198  2.652683  2.018826  1.508617  1.921159  2.829874   \n",
       "2518  3.078894  1.887151  2.640062  1.977172  1.545454  1.923173  2.863013   \n",
       "2519  3.088905  1.910529  2.648004  1.942957  1.528522  1.920754  2.893230   \n",
       "2520  3.109841  1.884032  2.657045  1.927886  1.535889  1.912916  2.899391   \n",
       "\n",
       "           7         8         9    ...       490       491       492  \\\n",
       "0     1.000000  1.000000  1.000000  ...  1.000000  1.000000  1.000000   \n",
       "1     0.987528  0.987334  1.012052  ...  1.021922  1.000572  1.014728   \n",
       "2     0.981376  1.006149  1.005392  ...  1.020299  0.987095  1.014457   \n",
       "3     0.980580  1.030876  1.006878  ...  1.026847  0.982281  1.014099   \n",
       "4     0.987355  1.044747  1.007628  ...  1.032170  0.973394  0.985679   \n",
       "...        ...       ...       ...  ...       ...       ...       ...   \n",
       "2516  2.266680  5.283704  2.770932  ...  2.523682  1.812968  4.357857   \n",
       "2517  2.276998  5.346522  2.758842  ...  2.532958  1.832740  4.364604   \n",
       "2518  2.286337  5.239356  2.734086  ...  2.530330  1.865364  4.377858   \n",
       "2519  2.255215  5.268056  2.744378  ...  2.489822  1.854257  4.331742   \n",
       "2520  2.244813  5.328822  2.774196  ...  2.486707  1.853187  4.300766   \n",
       "\n",
       "           493       494       495       496       497       498       499  \n",
       "0     1.000000  1.000000  1.000000  1.000000  1.000000  1.000000  1.000000  \n",
       "1     1.010755  0.990067  1.001826  0.999916  0.992846  0.992960  1.002064  \n",
       "2     1.021046  0.972285  1.000374  0.992352  0.982226  1.004367  0.984335  \n",
       "3     1.007234  0.968771  1.001223  1.004568  0.978262  0.998711  0.986436  \n",
       "4     1.008747  0.967716  1.001327  0.985671  0.978439  0.986994  0.992473  \n",
       "...        ...       ...       ...       ...       ...       ...       ...  \n",
       "2516  2.105988  3.672945  2.025828  1.489622  1.621974  2.287417  1.033568  \n",
       "2517  2.071361  3.592870  2.020644  1.486817  1.629903  2.287892  1.029258  \n",
       "2518  2.083173  3.537191  2.021053  1.486685  1.631383  2.270455  0.998122  \n",
       "2519  2.063620  3.563072  1.996068  1.487308  1.660969  2.283333  0.978501  \n",
       "2520  2.043842  3.596265  1.986746  1.494309  1.666599  2.305180  0.982123  \n",
       "\n",
       "[2521 rows x 500 columns]"
      ]
     },
     "execution_count": 68,
     "metadata": {},
     "output_type": "execute_result"
    }
   ],
   "source": [
    "# Run the Monte Carlo simulation to forecast 10 years cumulative returns\n",
    "MC_tenyear.calc_cumulative_return()"
   ]
  },
  {
   "cell_type": "code",
   "execution_count": 69,
   "id": "76f6653a-8d83-46ef-8b8c-5e632d95579c",
   "metadata": {},
   "outputs": [
    {
     "data": {
      "image/png": "[encoded data removed]",
      "text/plain": [
       "<Figure size 432x288 with 1 Axes>"
      ]
     },
     "metadata": {
      "needs_background": "light"
     },
     "output_type": "display_data"
    }
   ],
   "source": [
    "# Visualize the 10-year Monte Carlo simulation by creating an\n",
    "# overlay line plot\n",
    "MC_ten_line_plot = MC_tenyear.plot_simulation()"
   ]
  },
  {
   "cell_type": "code",
   "execution_count": 70,
   "id": "c044e3a3-c9c9-43a6-bd15-d1ee2bfd2b13",
   "metadata": {},
   "outputs": [
    {
     "data": {
      "image/png": "[encoded data removed]",
      "text/plain": [
       "<Figure size 432x288 with 1 Axes>"
      ]
     },
     "metadata": {
      "needs_background": "light"
     },
     "output_type": "display_data"
    }
   ],
   "source": [
    "# Visualize the probability distribution of the 10-year Monte Carlo simulation \n",
    "# by plotting a histogram\n",
    "MC_ten_distribution = MC_tenyear.plot_distribution()"
   ]
  },
  {
   "cell_type": "code",
   "execution_count": 71,
   "id": "2520a3f2-7edf-4b60-830e-94d22b5da02a",
   "metadata": {},
   "outputs": [
    {
     "name": "stdout",
     "output_type": "stream",
     "text": [
      "count           500.000000\n",
      "mean              2.881857\n",
      "std               1.794953\n",
      "min               0.285978\n",
      "25%               1.615253\n",
      "50%               2.402389\n",
      "75%               3.730010\n",
      "max              10.177911\n",
      "95% CI Lower      0.842115\n",
      "95% CI Upper      7.982000\n",
      "Name: 2520, dtype: float64\n"
     ]
    }
   ],
   "source": [
    "# Generate summary statistics from the 10-year Monte Carlo simulation results\n",
    "# Save the results as a variable\n",
    "MC_tenyear_summary = MC_tenyear.summarize_cumulative_return()\n",
    "\n",
    "\n",
    "# Review the 10-year Monte Carlo summary statistics\n",
    "print(MC_tenyear_summary)"
   ]
  },
  {
   "cell_type": "code",
   "execution_count": 72,
   "id": "1fb0e204-6833-4518-a04d-87d1a87527d6",
   "metadata": {},
   "outputs": [
    {
     "data": {
      "text/plain": [
       "60689.5"
      ]
     },
     "execution_count": 72,
     "metadata": {},
     "output_type": "execute_result"
    }
   ],
   "source": [
    "# Print the current balance of the stock and bond portion of the members portfolio\n",
    "total_stocks_bonds"
   ]
  },
  {
   "cell_type": "code",
   "execution_count": 73,
   "id": "5393affa-cbc3-4408-be96-c6a36b946abf",
   "metadata": {},
   "outputs": [
    {
     "name": "stdout",
     "output_type": "stream",
     "text": [
      "There is a 95% chance that if you invest your total stock and bonds portfolio in the next thirty years your investment will fall between $ 51107.55 and $ 484423.57\n"
     ]
    }
   ],
   "source": [
    "# Use the lower and upper `95%` confidence intervals to calculate the range of the possible outcomes for the current stock/bond portfolio\n",
    "ci_lower_ten_cumulative_return = MC_tenyear_summary[8] * total_stocks_bonds\n",
    "ci_upper_ten_cumulative_return = MC_tenyear_summary[9] * total_stocks_bonds\n",
    "\n",
    "# Print the result of your calculations\n",
    "print(f'There is a 95% chance that if you invest your total stock and bonds portfolio in the next thirty years your investment will fall between ${ci_lower_ten_cumulative_return: .2f} and ${ci_upper_ten_cumulative_return: .2f}')\n"
   ]
  },
  {
   "cell_type": "markdown",
   "id": "b4ddc31e-8b25-4960-ad87-1c8a50aa29cf",
   "metadata": {},
   "source": [
    "#### Question: Will weighting the portfolio more heavily to stocks allow the credit union members to retire after only 10 years?"
   ]
  },
  {
   "cell_type": "raw",
   "id": "fd0dc79b-4720-4803-856b-cffa665cd817",
   "metadata": {},
   "source": [
    "**Answer** # YOUR ANSWER HERE"
   ]
  },
  {
   "cell_type": "code",
   "execution_count": null,
   "id": "ec12a8ab-3a08-43bb-b713-ed5bddc155b9",
   "metadata": {},
   "outputs": [],
   "source": []
  }
 ],
 "metadata": {
  "kernelspec": {
   "display_name": "Python 3 (ipykernel)",
   "language": "python",
   "name": "python3"
  },
  "language_info": {
   "codemirror_mode": {
    "name": "ipython",
    "version": 3
   },
   "file_extension": ".py",
   "mimetype": "text/x-python",
   "name": "python",
   "nbconvert_exporter": "python",
   "pygments_lexer": "ipython3",
   "version": "3.7.11"
  }
 },
 "nbformat": 4,
 "nbformat_minor": 5
}
